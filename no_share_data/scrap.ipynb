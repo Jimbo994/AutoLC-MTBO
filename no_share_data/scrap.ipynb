{
 "cells": [
  {
   "cell_type": "code",
   "execution_count": 18,
   "metadata": {
    "collapsed": true,
    "ExecuteTime": {
     "end_time": "2023-08-10T14:56:58.808625Z",
     "start_time": "2023-08-10T14:56:58.781736Z"
    }
   },
   "outputs": [],
   "source": [
    "import pandas as pd\n",
    "import numpy as np"
   ]
  },
  {
   "cell_type": "code",
   "execution_count": 19,
   "outputs": [],
   "source": [
    "df1= pd.read_csv('data/1D lnk0 of Iteration6.txt', sep=' ', header=None, names=['k0_1D'])\n",
    "df2 = pd.read_csv('data/2D lnk0 of Iteration6.txt', sep=' ', header=None, names=['k0_2D'])\n",
    "df3 = pd.read_csv('data/1D slope of Iteration6.txt', sep=' ', header=None, names=['S_1D'])\n",
    "df4 = pd.read_csv('data/2D slope of Iteration6.txt', sep=' ', header=None, names=['S_2D'])"
   ],
   "metadata": {
    "collapsed": false,
    "ExecuteTime": {
     "end_time": "2023-08-10T14:56:59.244432Z",
     "start_time": "2023-08-10T14:56:59.208679Z"
    }
   }
  },
  {
   "cell_type": "code",
   "execution_count": 20,
   "outputs": [],
   "source": [
    "# take exponential of k0\n",
    "df1['k0_1D'] = df1['k0_1D'].apply(lambda x: np.exp(x))\n",
    "df2['k0_2D'] = df2['k0_2D'].apply(lambda x: np.exp(x))"
   ],
   "metadata": {
    "collapsed": false,
    "ExecuteTime": {
     "end_time": "2023-08-10T14:56:59.716669Z",
     "start_time": "2023-08-10T14:56:59.682447Z"
    }
   }
  },
  {
   "cell_type": "code",
   "execution_count": 21,
   "outputs": [],
   "source": [
    "# write all dfs to one csv\n",
    "df = pd.concat([df1, df3, df2, df4], axis=1)\n",
    "df.to_csv('data/retention_system_real.csv', index=False)"
   ],
   "metadata": {
    "collapsed": false,
    "ExecuteTime": {
     "end_time": "2023-08-10T14:57:17.303571Z",
     "start_time": "2023-08-10T14:57:17.290902Z"
    }
   }
  }
 ],
 "metadata": {
  "kernelspec": {
   "display_name": "Python 3",
   "language": "python",
   "name": "python3"
  },
  "language_info": {
   "codemirror_mode": {
    "name": "ipython",
    "version": 2
   },
   "file_extension": ".py",
   "mimetype": "text/x-python",
   "name": "python",
   "nbconvert_exporter": "python",
   "pygments_lexer": "ipython2",
   "version": "2.7.6"
  }
 },
 "nbformat": 4,
 "nbformat_minor": 0
}
