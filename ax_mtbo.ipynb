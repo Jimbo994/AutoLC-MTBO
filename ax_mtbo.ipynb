{
 "cells": [
  {
   "cell_type": "markdown",
   "source": [
    "### Bayesian Optimization for 2D retention model\n",
    "\n",
    "In this notebook we will utilize the 2D retention model we set up in earlier noteboks and perform single and multi-task Bayesian optimization on it."
   ],
   "metadata": {
    "collapsed": false
   }
  },
  {
   "cell_type": "code",
   "execution_count": null,
   "metadata": {
    "collapsed": true,
    "is_executing": true,
    "ExecuteTime": {
     "start_time": "2023-10-17T09:36:11.375559Z"
    }
   },
   "outputs": [
    {
     "data": {
      "text/html": "<script type='text/javascript'>/**\n * Copyright (c) Meta Platforms, Inc. and affiliates.\n *\n * This source code is licensed under the MIT license found in the\n * LICENSE file in the root directory of this source tree.\n */\n\nrequirejs.config({\n  paths: {\n    plotly: ['https://cdn.plot.ly/plotly-latest.min'],\n  },\n});\nif (!window.Plotly) {\n  require(['plotly'], function(plotly) {\n    window.Plotly = plotly;\n  });\n}\n/**\n * Copyright (c) Meta Platforms, Inc. and affiliates.\n *\n * This source code is licensed under the MIT license found in the\n * LICENSE file in the root directory of this source tree.\n */\n\n// helper functions used across multiple plots\nfunction rgb(rgb_array) {\n  return 'rgb(' + rgb_array.join() + ')';\n}\n\nfunction copy_and_reverse(arr) {\n  const copy = arr.slice();\n  copy.reverse();\n  return copy;\n}\n\nfunction axis_range(grid, is_log) {\n  return is_log\n    ? [Math.log10(Math.min(...grid)), Math.log10(Math.max(...grid))]\n    : [Math.min(...grid), Math.max(...grid)];\n}\n\nfunction relativize_data(f, sd, rel, arm_data, metric) {\n  // if relative, extract status quo & compute ratio\n  const f_final = rel === true ? [] : f;\n  const sd_final = rel === true ? [] : sd;\n\n  if (rel === true) {\n    const f_sq =\n      arm_data['in_sample'][arm_data['status_quo_name']]['y'][metric];\n    const sd_sq =\n      arm_data['in_sample'][arm_data['status_quo_name']]['se'][metric];\n\n    for (let i = 0; i < f.length; i++) {\n      res = relativize(f[i], sd[i], f_sq, sd_sq);\n      f_final.push(100 * res[0]);\n      sd_final.push(100 * res[1]);\n    }\n  }\n\n  return [f_final, sd_final];\n}\n\nfunction relativize(m_t, sem_t, m_c, sem_c) {\n  r_hat =\n    (m_t - m_c) / Math.abs(m_c) -\n    (Math.pow(sem_c, 2) * m_t) / Math.pow(Math.abs(m_c), 3);\n  variance =\n    (Math.pow(sem_t, 2) + Math.pow((m_t / m_c) * sem_c, 2)) / Math.pow(m_c, 2);\n  return [r_hat, Math.sqrt(variance)];\n}\n\nfunction slice_config_to_trace(\n  arm_data,\n  arm_name_to_parameters,\n  f,\n  fit_data,\n  grid,\n  metric,\n  param,\n  rel,\n  setx,\n  sd,\n  is_log,\n  visible,\n) {\n  // format data\n  const res = relativize_data(f, sd, rel, arm_data, metric);\n  const f_final = res[0];\n  const sd_final = res[1];\n\n  // get data for standard deviation fill plot\n  const sd_upper = [];\n  const sd_lower = [];\n  for (let i = 0; i < sd.length; i++) {\n    sd_upper.push(f_final[i] + 2 * sd_final[i]);\n    sd_lower.push(f_final[i] - 2 * sd_final[i]);\n  }\n  const grid_rev = copy_and_reverse(grid);\n  const sd_lower_rev = copy_and_reverse(sd_lower);\n  const sd_x = grid.concat(grid_rev);\n  const sd_y = sd_upper.concat(sd_lower_rev);\n\n  // get data for observed arms and error bars\n  const arm_x = [];\n  const arm_y = [];\n  const arm_sem = [];\n  fit_data.forEach(row => {\n    parameters = arm_name_to_parameters[row['arm_name']];\n    plot = true;\n    Object.keys(setx).forEach(p => {\n      if (p !== param && parameters[p] !== setx[p]) {\n        plot = false;\n      }\n    });\n    if (plot === true) {\n      arm_x.push(parameters[param]);\n      arm_y.push(row['mean']);\n      arm_sem.push(row['sem']);\n    }\n  });\n\n  const arm_res = relativize_data(arm_y, arm_sem, rel, arm_data, metric);\n  const arm_y_final = arm_res[0];\n  const arm_sem_final = arm_res[1].map(x => x * 2);\n\n  // create traces\n  const f_trace = {\n    x: grid,\n    y: f_final,\n    showlegend: false,\n    hoverinfo: 'x+y',\n    line: {\n      color: 'rgba(128, 177, 211, 1)',\n    },\n    visible: visible,\n  };\n\n  const arms_trace = {\n    x: arm_x,\n    y: arm_y_final,\n    mode: 'markers',\n    error_y: {\n      type: 'data',\n      array: arm_sem_final,\n      visible: true,\n      color: 'black',\n    },\n    line: {\n      color: 'black',\n    },\n    showlegend: false,\n    hoverinfo: 'x+y',\n    visible: visible,\n  };\n\n  const sd_trace = {\n    x: sd_x,\n    y: sd_y,\n    fill: 'toself',\n    fillcolor: 'rgba(128, 177, 211, 0.2)',\n    line: {\n      color: 'transparent',\n    },\n    showlegend: false,\n    hoverinfo: 'none',\n    visible: visible,\n  };\n\n  traces = [sd_trace, f_trace, arms_trace];\n\n  // iterate over out-of-sample arms\n  let i = 1;\n  Object.keys(arm_data['out_of_sample']).forEach(generator_run_name => {\n    const ax = [];\n    const ay = [];\n    const asem = [];\n    const atext = [];\n\n    Object.keys(arm_data['out_of_sample'][generator_run_name]).forEach(\n      arm_name => {\n        const parameters =\n          arm_data['out_of_sample'][generator_run_name][arm_name]['parameters'];\n        plot = true;\n        Object.keys(setx).forEach(p => {\n          if (p !== param && parameters[p] !== setx[p]) {\n            plot = false;\n          }\n        });\n        if (plot === true) {\n          ax.push(parameters[param]);\n          ay.push(\n            arm_data['out_of_sample'][generator_run_name][arm_name]['y_hat'][\n              metric\n            ],\n          );\n          asem.push(\n            arm_data['out_of_sample'][generator_run_name][arm_name]['se_hat'][\n              metric\n            ],\n          );\n          atext.push('<em>Candidate ' + arm_name + '</em>');\n        }\n      },\n    );\n\n    const out_of_sample_arm_res = relativize_data(\n      ay,\n      asem,\n      rel,\n      arm_data,\n      metric,\n    );\n    const ay_final = out_of_sample_arm_res[0];\n    const asem_final = out_of_sample_arm_res[1].map(x => x * 2);\n\n    traces.push({\n      hoverinfo: 'text',\n      legendgroup: generator_run_name,\n      marker: {color: 'black', symbol: i, opacity: 0.5},\n      mode: 'markers',\n      error_y: {\n        type: 'data',\n        array: asem_final,\n        visible: true,\n        color: 'black',\n      },\n      name: generator_run_name,\n      text: atext,\n      type: 'scatter',\n      xaxis: 'x',\n      x: ax,\n      yaxis: 'y',\n      y: ay_final,\n      visible: visible,\n    });\n\n    i += 1;\n  });\n  return traces;\n}\n</script>"
     },
     "metadata": {},
     "output_type": "display_data"
    },
    {
     "name": "stderr",
     "output_type": "stream",
     "text": [
      "[INFO 10-17 11:36:11] ax.utils.notebook.plotting: Injecting Plotly library into cell. Do not overwrite or delete cell.\n"
     ]
    }
   ],
   "source": [
    "from copy import deepcopy\n",
    "import numpy as np\n",
    "import pandas as pd\n",
    "import time\n",
    "\n",
    "from ax import OrderConstraint\n",
    "from ax.core.observation import ObservationFeatures, observations_from_data\n",
    "from ax.core.optimization_config import OptimizationConfig\n",
    "from ax.core.search_space import SearchSpace\n",
    "from ax.core.objective import Objective\n",
    "from ax.runners.synthetic import SyntheticRunner\n",
    "from ax.core.parameter import RangeParameter, ParameterType\n",
    "from ax.core.multi_type_experiment import MultiTypeExperiment\n",
    "from ax.modelbridge.factory import get_sobol, get_GPEI, get_MTGP\n",
    "from ax.core.generator_run import GeneratorRun\n",
    "from ax.plot.diagnostic import interact_batch_comparison\n",
    "from ax.utils.notebook.plotting import init_notebook_plotting, render\n",
    "from ax.metrics.noisy_function import NoisyFunctionMetric\n",
    "from ax.core.arm import Arm\n",
    "\n",
    "import torch\n",
    "\n",
    "from rm_code.retention_model import online_system, offline_system\n",
    "\n",
    "from utils.utils import bo_to_rm_2D\n",
    "\n",
    "init_notebook_plotting()"
   ]
  },
  {
   "cell_type": "code",
   "execution_count": 14,
   "outputs": [
    {
     "name": "stdout",
     "output_type": "stream",
     "text": [
      "186\n"
     ]
    }
   ],
   "source": [
    "# Set some default parameters for first dimension\n",
    "t_0_1D = 4.5 # dead time\n",
    "t_D_1D = 0.1 # dwell time\n",
    "N_1D = 400 # plate number 1D\n",
    "t_init_1D = 2 # init time\n",
    "\n",
    "# create dictionary for the above described parameters\n",
    "settings_1D = {'t_0': t_0_1D, 't_D': t_D_1D, 'N': N_1D, 't_init': t_init_1D}\n",
    "\n",
    "### Set up a 2D retention model\n",
    "\n",
    "### Define 2D parameters\n",
    "# lower bounds of shifting gradients are named \"init\". upper bounds of shifting gradients aer named \"final\".\n",
    "# time points of each shift have to be same in the current setup. Shift starts after the dead time of the first dimension. Shift ends at the end of the 1D program\n",
    "# each gradient in the second dimension has a dead time, gradient time and modulation time.\n",
    "\n",
    "N_2D = 1000 # plate number 2D\n",
    "\n",
    "t_M_2D = 2 #/ 3 # modulation time minutes\n",
    "t_G_2D = 1.8 #/ 3 # gradient time minutes\n",
    "t_init_2D = 0.1 #/ 3 # init time minutes\n",
    "t_D_2D = 0.01 # dwell time in minutes\n",
    "t_0_2D = 0.01 # dead time in minutes\n",
    "\n",
    "# create dictionary for the above described parameters\n",
    "settings_2D = {'t_M': t_M_2D, 't_G': t_G_2D, 't_init': t_init_2D, 't_D': t_D_2D, 't_0': t_0_2D, 'N': N_2D}\n",
    "\n",
    "# maximum allowed times in first and second dimension\n",
    "max_T = [100, t_M_2D]\n",
    "\n",
    "# Load the retention parameters created in \"samplin_retention_paremters.ipynb\"\n",
    "ret_pars = pd.read_csv('data/2Dsample.csv').to_dict(orient='list')\n",
    "\n",
    "n_analytes = len(ret_pars['k0_1D'])\n",
    "print(n_analytes)"
   ],
   "metadata": {
    "collapsed": false,
    "ExecuteTime": {
     "end_time": "2023-10-17T09:36:12.322495Z",
     "start_time": "2023-10-17T09:36:12.281116Z"
    }
   }
  },
  {
   "cell_type": "code",
   "execution_count": 15,
   "outputs": [],
   "source": [
    "# Set some fixed parameters\n",
    "t_max = 100 # maximum time\n",
    "phi_min, phi_max = 0, 1 # maximum phi\n",
    "fixed_phi_pars_1D = torch.tensor([[phi_min], [phi_max]]) # fixed phi points\n",
    "fixed_time_pars_1D = torch.tensor([[0.], [t_max]]) # at fixed time points\n",
    "\n",
    "fixed_phi_pars_2D = torch.tensor([[phi_min], [phi_max]]) # fixed phi points\n",
    "fixed_time_pars_2D = torch.tensor([[0.],[t_0_1D], [t_max]]) # at fixed time points\n",
    "\n",
    "# We will optimize 12 parameters, 4 parameters (2 gradient turning points) in the first dimension.\n",
    "# And 8 parameters in the second dimension, two time points, and three phi_init and phi_final point of the shifting gradient.\n",
    "# Pars vector will look like this: [phi1, phi2, t1, t2, phi_i1, phi_i2, phi_i3, phi_f1, phi_f2, phi_f3, t1_shift, t2_shift]\n",
    "# bounds = torch.stack([\n",
    "#     torch.tensor([phi_min, phi_min, 0.1, 0.1, phi_min, phi_min, phi_min, phi_min, phi_min, phi_min, t_0_1D, t_0_1D]),\n",
    "#     torch.tensor([phi_max, phi_max, t_max-0.1, t_max-0.1, phi_max, phi_max, phi_max, phi_max, phi_max, phi_max, t_max-t_M_2D, t_max-t_M_2D])]\n",
    "# )\n",
    "\n",
    "# bounds after normalization to [0,1]\n",
    "norm_bounds = torch.stack([torch.zeros(12), torch.ones(12)])\n",
    "\n",
    "# We will also need to set some inequality constraints : 1. phi_i1 < phi_f2, 2. phi_i2 < phi_f3,\n",
    "# 3. t1 < t2, 4. phi1 < phi2,  5. -t1_shift + t2_shift > tM\n",
    "# Spare representation of BoTorch.\n",
    "# ([indices of parameters], [coefficients], constant), example: ((torch.tensor([0,1]), torch.tensor([-1., 1.]), 0.0)) -x0 + x1 >= 0\n",
    "# inequality_constraints= [(torch.tensor([0,1]), torch.tensor([-1., 1.]), torch.tensor(0.0)), (torch.tensor([2,3]), torch.tensor([-1., 1.]), torch.tensor(0.1)), (torch.tensor([10,11]), torch.tensor([-1., 1.]), torch.tensor(t_M_2D)), (torch.tensor([4,8]), torch.tensor([-1., 1.]), torch.tensor(0.0)), (torch.tensor([5,9]), torch.tensor([-1., 1.]), torch.tensor(0.0))]\n",
    "\n",
    "# draw 10 random indices between 0 and n_analytes\n",
    "remove_indices = np.random.randint(0, n_analytes, 30)\n",
    "# create dictionary with noise levels\n",
    "noise = {'tR_1D': 2, 'tR_2D': 0.3, 'W_1D': 0.2, 'W_2D': 0.05}"
   ],
   "metadata": {
    "collapsed": false,
    "ExecuteTime": {
     "end_time": "2023-10-17T09:36:12.667655Z",
     "start_time": "2023-10-17T09:36:12.659084Z"
    }
   }
  },
  {
   "cell_type": "markdown",
   "source": [
    "### Define metrics\n",
    "\n",
    "We will define two metrics, one for the online and one for the offline system."
   ],
   "metadata": {
    "collapsed": false
   }
  },
  {
   "cell_type": "code",
   "execution_count": 16,
   "outputs": [],
   "source": [
    "class OnlineMetric(NoisyFunctionMetric):\n",
    "    def f(self, x: np.ndarray) -> float:        # turn x into a torch tensor and add a dimension\n",
    "        x = torch.tensor(x).unsqueeze(0)\n",
    "        phi_list_1D, t_list_1D, phi_init_2D, phi_final_2D, t_list_2D = bo_to_rm_2D(x, fixed_phi_pars_1D, fixed_time_pars_1D, fixed_phi_pars_2D, fixed_time_pars_2D)\n",
    "        tR_list_1D, W_list_1D, tR_list_2D, W_list_2D, res_score, time_score = online_system(ret_pars, settings_1D, settings_2D, phi_list_1D[0], t_list_1D[0], phi_init_2D[0], phi_final_2D[0], t_list_2D[0], max_T)\n",
    "        # if res_score or time_score is nan, return 0\n",
    "        if np.isnan(res_score) or np.isnan(time_score):\n",
    "            print('res_score or time_score is nan')\n",
    "            return 0\n",
    "        else:\n",
    "            return res_score #- time_score\n",
    "\n",
    "class OfflineMetric(NoisyFunctionMetric):\n",
    "    def f(self, x:np.ndarray) -> float:\n",
    "        x = torch.tensor(x).unsqueeze(0)\n",
    "        phi_list_1D, t_list_1D, phi_init_2D, phi_final_2D, t_list_2D = bo_to_rm_2D(x, fixed_phi_pars_1D, fixed_time_pars_1D, fixed_phi_pars_2D, fixed_time_pars_2D)\n",
    "        tR_list_1D, W_list_1D, tR_list_2D, W_list_2D, res_score, time_score = offline_system(ret_pars, settings_1D, settings_2D, phi_list_1D[0], t_list_1D[0],phi_init_2D[0], phi_final_2D[0], t_list_2D[0], max_T, noise, remove_indices)\n",
    "\n",
    "        if np.isnan(res_score) or np.isnan(time_score):\n",
    "            print('res_score or time_score is nan')\n",
    "            return 0\n",
    "        else:\n",
    "            return res_score #- time_score"
   ],
   "metadata": {
    "collapsed": false,
    "ExecuteTime": {
     "end_time": "2023-10-17T09:36:13.289291Z",
     "start_time": "2023-10-17T09:36:13.207928Z"
    }
   }
  },
  {
   "cell_type": "markdown",
   "source": [
    "### Define experiment\n",
    "\n",
    "We will define an experiment with two trial types, online and offline. The online trial type will be run on the online system, and the offline trial type will be run on the offline system. In addition, we here introduce the parameters and their bounds and constraints."
   ],
   "metadata": {
    "collapsed": false
   }
  },
  {
   "cell_type": "code",
   "execution_count": 17,
   "outputs": [],
   "source": [
    "def get_experiment(include_true_metric=True):\n",
    "    noise_sd = 1  # Observations will have this much Normal noise added to them\n",
    "\n",
    "    # 1. Create simple search space for [0,1]^d, d=6\n",
    "    param_names = [f\"x{i}\" for i in range(12)]\n",
    "    print(param_names)\n",
    "    parameters=[\n",
    "        RangeParameter( # phi_1\n",
    "            name=param_names[0], parameter_type=ParameterType.FLOAT, lower=0.1, upper=1.0\n",
    "        ),\n",
    "        RangeParameter( # phi_2\n",
    "            name=param_names[1], parameter_type=ParameterType.FLOAT, lower=0.1, upper=1.0\n",
    "        ),\n",
    "        RangeParameter( # t_1\n",
    "            name=param_names[2], parameter_type=ParameterType.FLOAT, lower=0.1, upper=t_max-0.2\n",
    "        ),\n",
    "        RangeParameter( # t_2\n",
    "            name=param_names[3], parameter_type=ParameterType.FLOAT, lower=0.2, upper=t_max-0.1\n",
    "        ),\n",
    "        RangeParameter( # phi_init_1\n",
    "            name=param_names[4], parameter_type=ParameterType.FLOAT, lower=0.1, upper=1.0\n",
    "        ),\n",
    "        RangeParameter( # phi_init_2\n",
    "            name=param_names[5], parameter_type=ParameterType.FLOAT, lower=0.1, upper=1.0\n",
    "        ),\n",
    "        RangeParameter( # phi_init_3\n",
    "            name=param_names[6], parameter_type=ParameterType.FLOAT, lower=0.1, upper=1.0\n",
    "        ),\n",
    "        RangeParameter( # phi_final_1\n",
    "            name=param_names[7], parameter_type=ParameterType.FLOAT, lower=0.1, upper=1.0\n",
    "        ),\n",
    "        RangeParameter( # phi_final_2\n",
    "            name=param_names[8], parameter_type=ParameterType.FLOAT, lower=0.1, upper=1.0\n",
    "        ),\n",
    "        RangeParameter( # phi_final_3\n",
    "            name=param_names[9], parameter_type=ParameterType.FLOAT, lower=0.1, upper=1.0\n",
    "        ),\n",
    "        RangeParameter( # t_1_shift\n",
    "            name=param_names[10], parameter_type=ParameterType.FLOAT, lower=t_0_1D, upper=t_max-t_M_2D-0.1\n",
    "        ),\n",
    "        RangeParameter( # t_2_shift\n",
    "            name=param_names[11], parameter_type=ParameterType.FLOAT, lower=t_0_1D+0.1, upper=t_max-t_M_2D\n",
    "        )\n",
    "    ]\n",
    "    search_space = SearchSpace(parameters=parameters)\n",
    "    constraints = [\n",
    "        OrderConstraint(\n",
    "            lower_parameter=search_space.parameters['x0'],\n",
    "            upper_parameter=search_space.parameters['x1'],\n",
    "\n",
    "        ),\n",
    "        OrderConstraint(\n",
    "            lower_parameter=search_space.parameters['x2'],\n",
    "            upper_parameter=search_space.parameters['x3'],\n",
    "        ),\n",
    "        OrderConstraint(\n",
    "            lower_parameter=search_space.parameters['x10'],\n",
    "            upper_parameter=search_space.parameters['x11'],\n",
    "        ),\n",
    "        OrderConstraint(\n",
    "            lower_parameter=search_space.parameters['x4'],\n",
    "            upper_parameter=search_space.parameters['x8'],\n",
    "        ),\n",
    "        OrderConstraint(\n",
    "            lower_parameter=search_space.parameters['x5'],\n",
    "            upper_parameter=search_space.parameters['x9'],\n",
    "        ),\n",
    "    ]\n",
    "    search_space=SearchSpace(parameters=parameters, parameter_constraints=constraints)\n",
    "\n",
    "    # 2. Specify optimization config\n",
    "    online_objective = OnlineMetric(\"objective\", param_names=param_names, noise_sd=noise_sd)\n",
    "    opt_config = OptimizationConfig(objective=Objective(online_objective, minimize=False))\n",
    "\n",
    "    # 3. Init experiment\n",
    "    exp = MultiTypeExperiment(\n",
    "        name=\"mt_exp\",\n",
    "        search_space=search_space,\n",
    "        default_trial_type=\"online\",\n",
    "        default_runner=SyntheticRunner(),\n",
    "        optimization_config=opt_config,\n",
    "    )\n",
    "\n",
    "    # 4. Establish offline trial_type, and how those trials are deployed\n",
    "    exp.add_trial_type(\"offline\", SyntheticRunner())\n",
    "\n",
    "    # 5. Add offline metrics that provide biased estimates of the online metrics\n",
    "    offline_objective = OfflineMetric(\"offline_objective\", param_names=param_names, noise_sd=noise_sd)\n",
    "    # Associate each offline metric with corresponding online metric\n",
    "    exp.add_tracking_metric(metric=offline_objective, trial_type=\"offline\", canonical_name=\"objective\")\n",
    "\n",
    "    return exp"
   ],
   "metadata": {
    "collapsed": false,
    "ExecuteTime": {
     "end_time": "2023-10-17T09:36:13.831373Z",
     "start_time": "2023-10-17T09:36:13.725568Z"
    }
   }
  },
  {
   "cell_type": "code",
   "execution_count": 19,
   "outputs": [],
   "source": [
    "# Settings for the optimization benchmark.\n",
    "\n",
    "# This should be changed to 50 to reproduce the results from the paper.\n",
    "n_reps = 10  # Number of repeated experiments, each with independent observation noise\n",
    "\n",
    "n_init_online = 5  # Size of the quasirandom initialization run online\n",
    "n_init_offline = 30  # Size of the quasirandom initialization run offline\n",
    "n_opt_online = 1  # Batch size for BO selected points to be run online\n",
    "n_opt_offline = 4  # Batch size for BO selected to be run offline\n",
    "n_batches = 20  # Number of optimized BO batches\n",
    "\n",
    "# Create gr_scanning a Generator with 4 points that I can define myself\n",
    "# gr_scanning = GeneratorRun(arms=[\n",
    "#     Arm(parameters={'x0': 0.55, 'x1': 1.0, 'x2': 20, 'x3': 40.0, 'x4': 0.1, 'x5': 0.1, 'x6': 0.1, 'x7': 1.0, 'x8': 1.0, 'x9': 1.0, 'x10': 20, 'x11': 40}),\n",
    "#     Arm(parameters={'x0': 0.55, 'x1': 1.0, 'x2': 30, 'x3': 60.0, 'x4': 0.1, 'x5': 0.1, 'x6': 0.1, 'x7': 1.0, 'x8': 1.0, 'x9': 1.0, 'x10': 20, 'x11': 40}),\n",
    "#     Arm(parameters={'x0': 0.55, 'x1': 1.0, 'x2': 40, 'x3': 80.0, 'x4': 0.1, 'x5': 0.1, 'x6': 0.1, 'x7': 1.0, 'x8': 1.0, 'x9': 1.0, 'x10': 20, 'x11': 40}),\n",
    "#     Arm(parameters={'x0': 0.55, 'x1': 1.0, 'x2': 45, 'x3': 90.0, 'x4': 0.1, 'x5': 0.1, 'x6': 0.1, 'x7': 1.0, 'x8': 1.0, 'x9': 1.0, 'x10': 20, 'x11': 40})], weights=[1.0]*4)\n"
   ],
   "metadata": {
    "collapsed": false,
    "ExecuteTime": {
     "end_time": "2023-10-17T09:36:48.022958Z",
     "start_time": "2023-10-17T09:36:48.019586Z"
    }
   }
  },
  {
   "cell_type": "code",
   "execution_count": 21,
   "outputs": [],
   "source": [
    "# This function runs a Bayesian optimization loop, making online observations only.\n",
    "def run_online_only_bo(trial):\n",
    "    t1 = time.time()\n",
    "    ### Do BO with online only\n",
    "    ## Quasi-random initialization\n",
    "    exp_online = get_experiment()\n",
    "    m = get_sobol(exp_online.search_space, seed=trial, scramble=True, fallback_to_sample_polytope=True)\n",
    "    gr = m.gen(n=n_init_online)\n",
    "    exp_online.new_batch_trial(trial_type=\"online\", generator_run=gr).run()\n",
    "    # run gr_scanning\n",
    "    # exp_online.new_batch_trial(trial_type=\"online\", generator_run=gr_scanning).run()\n",
    "    #print('Done running online scannings')\n",
    "    ## Do BO\n",
    "    for b in range(n_batches):\n",
    "        print('Online-only batch', b, time.time() - t1)\n",
    "        # Fit the GP\n",
    "        m = get_GPEI(\n",
    "            experiment=exp_online,\n",
    "            data=exp_online.fetch_data(),\n",
    "            search_space=exp_online.search_space,\n",
    "        )\n",
    "        # Generate the new batch\n",
    "        gr = m.gen(\n",
    "            n=n_opt_online,\n",
    "            search_space=exp_online.search_space,\n",
    "            optimization_config=exp_online.optimization_config,\n",
    "        )\n",
    "        exp_online.new_batch_trial(trial_type=\"online\", generator_run=gr).run()\n",
    "    return exp_online"
   ],
   "metadata": {
    "collapsed": false,
    "ExecuteTime": {
     "end_time": "2023-10-17T09:36:50.892798Z",
     "start_time": "2023-10-17T09:36:50.839942Z"
    }
   }
  },
  {
   "cell_type": "code",
   "execution_count": 22,
   "outputs": [],
   "source": [
    "# Online batches are constructed by selecting the maximum utility points from the offline\n",
    "# batch, after updating the model with the offline results. This function selects the max utility points according\n",
    "# to the MTGP predictions.\n",
    "def max_utility_from_GP(n, m, experiment, search_space, gr):\n",
    "    obsf = []\n",
    "    for arm in gr.arms:\n",
    "        params = deepcopy(arm.parameters)\n",
    "        params['trial_type'] = 'online'\n",
    "        obsf.append(ObservationFeatures(parameters=params))\n",
    "    # Make predictions\n",
    "    f, cov = m.predict(obsf)\n",
    "    # Compute expected utility\n",
    "    u = -np.array(f['objective'])\n",
    "    best_arm_indx = np.flip(np.argsort(u))[:n]\n",
    "    gr_new = GeneratorRun(\n",
    "        arms = [\n",
    "            gr.arms[i] for i in best_arm_indx\n",
    "        ],\n",
    "        weights = [1.] * n,\n",
    "    )\n",
    "    return gr_new\n",
    "\n",
    "# This function runs a Multi-Task Bayesian optimization loop, as outlined in Algorithm 1 and above.\n",
    "def run_mtbo(trial):\n",
    "    t1 = time.time()\n",
    "    online_trials = []\n",
    "    ## 1. Quasi-random initialization, online and offline\n",
    "    exp_multitask = get_experiment()\n",
    "    # Online points\n",
    "    m = get_sobol(exp_multitask.search_space, seed=trial, scramble=True, fallback_to_sample_polytope=True)\n",
    "    gr = m.gen(\n",
    "        n=n_init_online,\n",
    "    )\n",
    "    # print('running online scans')\n",
    "    tr = exp_multitask.new_batch_trial(trial_type=\"online\", generator_run=gr)\n",
    "    tr.run()\n",
    "    online_trials.append(tr.index)\n",
    "\n",
    "    # also run gr_scanning offline\n",
    "    #print('running offline scans')\n",
    "    #exp_multitask.new_batch_trial(trial_type=\"offline\", generator_run=gr_scanning).run()\n",
    "\n",
    "    # print('running additional offline exps')\n",
    "    # # Offline points\n",
    "    m = get_sobol(exp_multitask.search_space, scramble=True, fallback_to_sample_polytope=True)\n",
    "    gr = m.gen(\n",
    "        n=n_init_offline,\n",
    "    )\n",
    "    exp_multitask.new_batch_trial(trial_type=\"offline\", generator_run=gr).run()\n",
    "    ## Do BO\n",
    "    for b in range(n_batches):\n",
    "        print('Multi-task batch', b, time.time() - t1)\n",
    "        # (2 / 7). Fit the MTGP\n",
    "        m = get_MTGP(\n",
    "            experiment=exp_multitask,\n",
    "            data=exp_multitask.fetch_data(),\n",
    "            search_space=exp_multitask.search_space,\n",
    "            #fit_out_of_design=True,\n",
    "        )\n",
    "\n",
    "        # 3. Finding the best points for the online task\n",
    "        gr = m.gen(\n",
    "            n=n_opt_offline,\n",
    "            optimization_config=exp_multitask.optimization_config,\n",
    "            fixed_features=ObservationFeatures(parameters={}, trial_index=online_trials[-1]),\n",
    "        )\n",
    "\n",
    "        # 4. But launch them offline\n",
    "        exp_multitask.new_batch_trial(trial_type=\"offline\", generator_run=gr).run()\n",
    "\n",
    "        # 5. Update the model\n",
    "        m = get_MTGP(\n",
    "            experiment=exp_multitask,\n",
    "            data=exp_multitask.fetch_data(),\n",
    "            search_space=exp_multitask.search_space,\n",
    "            #fit_out_of_design=True,\n",
    "        )\n",
    "\n",
    "        # 6. Select max-utility points from the offline batch to generate an online batch\n",
    "        gr = max_utility_from_GP(\n",
    "            n=n_opt_online,\n",
    "            m=m,\n",
    "            experiment=exp_multitask,\n",
    "            search_space=exp_multitask.search_space,\n",
    "            gr=gr,\n",
    "        )\n",
    "        tr = exp_multitask.new_batch_trial(trial_type=\"online\", generator_run=gr)\n",
    "        tr.run()\n",
    "        online_trials.append(tr.index)\n",
    "    return exp_multitask"
   ],
   "metadata": {
    "collapsed": false,
    "ExecuteTime": {
     "end_time": "2023-10-17T09:36:50.892951Z",
     "start_time": "2023-10-17T09:36:50.854063Z"
    }
   }
  },
  {
   "cell_type": "markdown",
   "source": [
    "### Run the experiment\n",
    "\n",
    "We will run the experiment for 8 repetitions, and save the results to a csv file.\n",
    "\n",
    "Note that this will take a long time to run, and it is recommended to run this on a cluster. Change the settings above to run a smaller experiment."
   ],
   "metadata": {
    "collapsed": false
   }
  },
  {
   "cell_type": "code",
   "execution_count": 23,
   "outputs": [
    {
     "name": "stdout",
     "output_type": "stream",
     "text": [
      "Running rep 0\n",
      "Running GP, online only\n",
      "['x0', 'x1', 'x2', 'x3', 'x4', 'x5', 'x6', 'x7', 'x8', 'x9', 'x10', 'x11']\n",
      "Online-only batch 0 0.05185198783874512\n",
      "Online-only batch 1 10.770642042160034\n",
      "Online-only batch 2 23.721633911132812\n",
      "Online-only batch 3 35.91934394836426\n",
      "Online-only batch 4 46.98802614212036\n",
      "Online-only batch 5 62.72356915473938\n",
      "Online-only batch 6 81.00109505653381\n",
      "Online-only batch 7 109.34885597229004\n",
      "Online-only batch 8 129.49730706214905\n",
      "Online-only batch 9 146.73082995414734\n",
      "Online-only batch 10 161.14352989196777\n",
      "Online-only batch 11 176.0196990966797\n",
      "Online-only batch 12 190.63542103767395\n",
      "Online-only batch 13 206.1418080329895\n",
      "Online-only batch 14 224.40309810638428\n",
      "Online-only batch 15 241.08153009414673\n",
      "Online-only batch 16 255.8026430606842\n",
      "Online-only batch 17 270.62884187698364\n",
      "Online-only batch 18 288.6507959365845\n",
      "Online-only batch 19 305.6534719467163\n",
      "Running MTGP\n",
      "['x0', 'x1', 'x2', 'x3', 'x4', 'x5', 'x6', 'x7', 'x8', 'x9', 'x10', 'x11']\n",
      "Multi-task batch 0 0.36301493644714355\n",
      "Multi-task batch 1 60.64143204689026\n",
      "Multi-task batch 2 131.13723802566528\n",
      "Multi-task batch 3 208.96632504463196\n",
      "Multi-task batch 4 291.3265001773834\n",
      "Multi-task batch 5 383.1751310825348\n",
      "Multi-task batch 6 475.3420240879059\n",
      "Multi-task batch 7 574.1130712032318\n",
      "Multi-task batch 8 673.875559091568\n",
      "Multi-task batch 9 769.1224331855774\n",
      "Multi-task batch 10 884.2261090278625\n",
      "Multi-task batch 11 1004.6763541698456\n",
      "Multi-task batch 12 1137.2598791122437\n",
      "Multi-task batch 13 1269.9218940734863\n",
      "Multi-task batch 14 1400.3470342159271\n",
      "Multi-task batch 15 1524.7933461666107\n",
      "Multi-task batch 16 1654.0505712032318\n",
      "Multi-task batch 17 1788.709848165512\n",
      "Multi-task batch 18 1928.7341849803925\n",
      "Multi-task batch 19 2071.364030122757\n",
      "Running rep 1\n",
      "Running GP, online only\n",
      "['x0', 'x1', 'x2', 'x3', 'x4', 'x5', 'x6', 'x7', 'x8', 'x9', 'x10', 'x11']\n",
      "Online-only batch 0 0.03648519515991211\n",
      "Online-only batch 1 9.330199003219604\n",
      "Online-only batch 2 20.27820110321045\n",
      "Online-only batch 3 31.288071155548096\n",
      "Online-only batch 4 42.72487020492554\n",
      "Online-only batch 5 54.69067311286926\n",
      "Online-only batch 6 67.30012106895447\n",
      "Online-only batch 7 80.19958305358887\n",
      "Online-only batch 8 93.32328796386719\n",
      "Online-only batch 9 106.6595811843872\n",
      "Online-only batch 10 120.2918131351471\n",
      "Online-only batch 11 134.08013010025024\n",
      "Online-only batch 12 148.26278018951416\n",
      "Online-only batch 13 161.78921389579773\n",
      "Online-only batch 14 176.71312618255615\n",
      "Online-only batch 15 192.6318221092224\n",
      "Online-only batch 16 208.30409693717957\n",
      "Online-only batch 17 224.58278012275696\n",
      "Online-only batch 18 241.50130605697632\n",
      "Online-only batch 19 254.4104449748993\n",
      "Running MTGP\n",
      "['x0', 'x1', 'x2', 'x3', 'x4', 'x5', 'x6', 'x7', 'x8', 'x9', 'x10', 'x11']\n",
      "Multi-task batch 0 0.16953229904174805\n",
      "Multi-task batch 1 57.08720302581787\n",
      "Multi-task batch 2 120.25493502616882\n",
      "Multi-task batch 3 185.94150924682617\n",
      "Multi-task batch 4 257.35966634750366\n",
      "Multi-task batch 5 329.0888831615448\n",
      "Multi-task batch 6 406.8890070915222\n",
      "Multi-task batch 7 486.2295491695404\n",
      "Multi-task batch 8 573.3890240192413\n",
      "Multi-task batch 9 662.1397542953491\n",
      "Multi-task batch 10 755.8829083442688\n",
      "Multi-task batch 11 876.2014000415802\n",
      "Multi-task batch 12 1007.5730421543121\n",
      "Multi-task batch 13 1136.6626522541046\n",
      "Multi-task batch 14 1266.0967953205109\n",
      "Multi-task batch 15 1409.4836761951447\n",
      "Multi-task batch 16 1549.6724050045013\n",
      "Multi-task batch 17 1720.615498304367\n",
      "Multi-task batch 18 1871.5834181308746\n",
      "Multi-task batch 19 2024.541995048523\n",
      "Running rep 2\n",
      "Running GP, online only\n",
      "['x0', 'x1', 'x2', 'x3', 'x4', 'x5', 'x6', 'x7', 'x8', 'x9', 'x10', 'x11']\n",
      "Online-only batch 0 0.0359957218170166\n",
      "Online-only batch 1 14.739243984222412\n",
      "Online-only batch 2 30.02438497543335\n",
      "Online-only batch 3 42.307745933532715\n",
      "Online-only batch 4 56.641666889190674\n",
      "Online-only batch 5 70.8415846824646\n",
      "Online-only batch 6 84.14417886734009\n",
      "Online-only batch 7 104.01942181587219\n",
      "Online-only batch 8 119.48350882530212\n",
      "Online-only batch 9 134.51072788238525\n",
      "Online-only batch 10 149.09391403198242\n",
      "Online-only batch 11 166.05338597297668\n",
      "Online-only batch 12 184.03717184066772\n",
      "Online-only batch 13 202.66331791877747\n"
     ]
    },
    {
     "ename": "KeyboardInterrupt",
     "evalue": "",
     "output_type": "error",
     "traceback": [
      "\u001B[0;31m---------------------------------------------------------------------------\u001B[0m",
      "\u001B[0;31mKeyboardInterrupt\u001B[0m                         Traceback (most recent call last)",
      "Input \u001B[0;32mIn [23]\u001B[0m, in \u001B[0;36m<cell line: 6>\u001B[0;34m()\u001B[0m\n\u001B[1;32m      8\u001B[0m \u001B[38;5;28;01mfor\u001B[39;00m k, r \u001B[38;5;129;01min\u001B[39;00m runners\u001B[38;5;241m.\u001B[39mitems():\n\u001B[1;32m      9\u001B[0m     \u001B[38;5;28mprint\u001B[39m(\u001B[38;5;124m'\u001B[39m\u001B[38;5;124mRunning\u001B[39m\u001B[38;5;124m'\u001B[39m, k)\n\u001B[0;32m---> 10\u001B[0m     exp \u001B[38;5;241m=\u001B[39m \u001B[43mr\u001B[49m\u001B[43m(\u001B[49m\u001B[43mrep\u001B[49m\u001B[43m)\u001B[49m\n\u001B[1;32m     11\u001B[0m     df \u001B[38;5;241m=\u001B[39m exp\u001B[38;5;241m.\u001B[39mfetch_data()\u001B[38;5;241m.\u001B[39mdf\n\u001B[1;32m     12\u001B[0m     \u001B[38;5;66;03m# add a rep column\u001B[39;00m\n",
      "Input \u001B[0;32mIn [21]\u001B[0m, in \u001B[0;36mrun_online_only_bo\u001B[0;34m(trial)\u001B[0m\n\u001B[1;32m     17\u001B[0m     m \u001B[38;5;241m=\u001B[39m get_GPEI(\n\u001B[1;32m     18\u001B[0m         experiment\u001B[38;5;241m=\u001B[39mexp_online,\n\u001B[1;32m     19\u001B[0m         data\u001B[38;5;241m=\u001B[39mexp_online\u001B[38;5;241m.\u001B[39mfetch_data(),\n\u001B[1;32m     20\u001B[0m         search_space\u001B[38;5;241m=\u001B[39mexp_online\u001B[38;5;241m.\u001B[39msearch_space,\n\u001B[1;32m     21\u001B[0m     )\n\u001B[1;32m     22\u001B[0m     \u001B[38;5;66;03m# Generate the new batch\u001B[39;00m\n\u001B[0;32m---> 23\u001B[0m     gr \u001B[38;5;241m=\u001B[39m \u001B[43mm\u001B[49m\u001B[38;5;241;43m.\u001B[39;49m\u001B[43mgen\u001B[49m\u001B[43m(\u001B[49m\n\u001B[1;32m     24\u001B[0m \u001B[43m        \u001B[49m\u001B[43mn\u001B[49m\u001B[38;5;241;43m=\u001B[39;49m\u001B[43mn_opt_online\u001B[49m\u001B[43m,\u001B[49m\n\u001B[1;32m     25\u001B[0m \u001B[43m        \u001B[49m\u001B[43msearch_space\u001B[49m\u001B[38;5;241;43m=\u001B[39;49m\u001B[43mexp_online\u001B[49m\u001B[38;5;241;43m.\u001B[39;49m\u001B[43msearch_space\u001B[49m\u001B[43m,\u001B[49m\n\u001B[1;32m     26\u001B[0m \u001B[43m        \u001B[49m\u001B[43moptimization_config\u001B[49m\u001B[38;5;241;43m=\u001B[39;49m\u001B[43mexp_online\u001B[49m\u001B[38;5;241;43m.\u001B[39;49m\u001B[43moptimization_config\u001B[49m\u001B[43m,\u001B[49m\n\u001B[1;32m     27\u001B[0m \u001B[43m    \u001B[49m\u001B[43m)\u001B[49m\n\u001B[1;32m     28\u001B[0m     exp_online\u001B[38;5;241m.\u001B[39mnew_batch_trial(trial_type\u001B[38;5;241m=\u001B[39m\u001B[38;5;124m\"\u001B[39m\u001B[38;5;124monline\u001B[39m\u001B[38;5;124m\"\u001B[39m, generator_run\u001B[38;5;241m=\u001B[39mgr)\u001B[38;5;241m.\u001B[39mrun()\n\u001B[1;32m     29\u001B[0m \u001B[38;5;28;01mreturn\u001B[39;00m exp_online\n",
      "File \u001B[0;32m~/opt/anaconda3/envs/matlab_compat/lib/python3.8/site-packages/ax/modelbridge/base.py:669\u001B[0m, in \u001B[0;36mModelBridge.gen\u001B[0;34m(self, n, search_space, optimization_config, pending_observations, fixed_features, model_gen_options)\u001B[0m\n\u001B[1;32m    661\u001B[0m base_gen_args \u001B[38;5;241m=\u001B[39m \u001B[38;5;28mself\u001B[39m\u001B[38;5;241m.\u001B[39m_get_transformed_gen_args(\n\u001B[1;32m    662\u001B[0m     search_space\u001B[38;5;241m=\u001B[39msearch_space,\n\u001B[1;32m    663\u001B[0m     optimization_config\u001B[38;5;241m=\u001B[39moptimization_config,\n\u001B[1;32m    664\u001B[0m     pending_observations\u001B[38;5;241m=\u001B[39mpending_observations,\n\u001B[1;32m    665\u001B[0m     fixed_features\u001B[38;5;241m=\u001B[39mfixed_features,\n\u001B[1;32m    666\u001B[0m )\n\u001B[1;32m    668\u001B[0m \u001B[38;5;66;03m# Apply terminal transform and gen\u001B[39;00m\n\u001B[0;32m--> 669\u001B[0m observation_features, weights, best_obsf, gen_metadata \u001B[38;5;241m=\u001B[39m \u001B[38;5;28;43mself\u001B[39;49m\u001B[38;5;241;43m.\u001B[39;49m\u001B[43m_gen\u001B[49m\u001B[43m(\u001B[49m\n\u001B[1;32m    670\u001B[0m \u001B[43m    \u001B[49m\u001B[43mn\u001B[49m\u001B[38;5;241;43m=\u001B[39;49m\u001B[43mn\u001B[49m\u001B[43m,\u001B[49m\n\u001B[1;32m    671\u001B[0m \u001B[43m    \u001B[49m\u001B[43msearch_space\u001B[49m\u001B[38;5;241;43m=\u001B[39;49m\u001B[43mbase_gen_args\u001B[49m\u001B[38;5;241;43m.\u001B[39;49m\u001B[43msearch_space\u001B[49m\u001B[43m,\u001B[49m\n\u001B[1;32m    672\u001B[0m \u001B[43m    \u001B[49m\u001B[43moptimization_config\u001B[49m\u001B[38;5;241;43m=\u001B[39;49m\u001B[43mbase_gen_args\u001B[49m\u001B[38;5;241;43m.\u001B[39;49m\u001B[43moptimization_config\u001B[49m\u001B[43m,\u001B[49m\n\u001B[1;32m    673\u001B[0m \u001B[43m    \u001B[49m\u001B[43mpending_observations\u001B[49m\u001B[38;5;241;43m=\u001B[39;49m\u001B[43mbase_gen_args\u001B[49m\u001B[38;5;241;43m.\u001B[39;49m\u001B[43mpending_observations\u001B[49m\u001B[43m,\u001B[49m\n\u001B[1;32m    674\u001B[0m \u001B[43m    \u001B[49m\u001B[43mfixed_features\u001B[49m\u001B[38;5;241;43m=\u001B[39;49m\u001B[43mbase_gen_args\u001B[49m\u001B[38;5;241;43m.\u001B[39;49m\u001B[43mfixed_features\u001B[49m\u001B[43m,\u001B[49m\n\u001B[1;32m    675\u001B[0m \u001B[43m    \u001B[49m\u001B[43mmodel_gen_options\u001B[49m\u001B[38;5;241;43m=\u001B[39;49m\u001B[43mmodel_gen_options\u001B[49m\u001B[43m,\u001B[49m\n\u001B[1;32m    676\u001B[0m \u001B[43m\u001B[49m\u001B[43m)\u001B[49m\n\u001B[1;32m    677\u001B[0m \u001B[38;5;66;03m# Apply reverse transforms\u001B[39;00m\n\u001B[1;32m    678\u001B[0m \u001B[38;5;28;01mfor\u001B[39;00m t \u001B[38;5;129;01min\u001B[39;00m \u001B[38;5;28mreversed\u001B[39m(\u001B[38;5;28mself\u001B[39m\u001B[38;5;241m.\u001B[39mtransforms\u001B[38;5;241m.\u001B[39mvalues()):  \u001B[38;5;66;03m# noqa T484\u001B[39;00m\n",
      "File \u001B[0;32m~/opt/anaconda3/envs/matlab_compat/lib/python3.8/site-packages/ax/modelbridge/array.py:275\u001B[0m, in \u001B[0;36mArrayModelBridge._gen\u001B[0;34m(self, n, search_space, pending_observations, fixed_features, model_gen_options, optimization_config)\u001B[0m\n\u001B[1;32m    273\u001B[0m search_space_digest \u001B[38;5;241m=\u001B[39m array_model_gen_args\u001B[38;5;241m.\u001B[39msearch_space_digest\n\u001B[1;32m    274\u001B[0m \u001B[38;5;66;03m# TODO: pass array_model_gen_args to _model_gen\u001B[39;00m\n\u001B[0;32m--> 275\u001B[0m X, w, gen_metadata, candidate_metadata \u001B[38;5;241m=\u001B[39m \u001B[38;5;28;43mself\u001B[39;49m\u001B[38;5;241;43m.\u001B[39;49m\u001B[43m_model_gen\u001B[49m\u001B[43m(\u001B[49m\n\u001B[1;32m    276\u001B[0m \u001B[43m    \u001B[49m\u001B[43mn\u001B[49m\u001B[38;5;241;43m=\u001B[39;49m\u001B[43mn\u001B[49m\u001B[43m,\u001B[49m\n\u001B[1;32m    277\u001B[0m \u001B[43m    \u001B[49m\u001B[43mbounds\u001B[49m\u001B[38;5;241;43m=\u001B[39;49m\u001B[43msearch_space_digest\u001B[49m\u001B[38;5;241;43m.\u001B[39;49m\u001B[43mbounds\u001B[49m\u001B[43m,\u001B[49m\n\u001B[1;32m    278\u001B[0m \u001B[43m    \u001B[49m\u001B[43mobjective_weights\u001B[49m\u001B[38;5;241;43m=\u001B[39;49m\u001B[43marray_model_gen_args\u001B[49m\u001B[38;5;241;43m.\u001B[39;49m\u001B[43mobjective_weights\u001B[49m\u001B[43m,\u001B[49m\n\u001B[1;32m    279\u001B[0m \u001B[43m    \u001B[49m\u001B[43moutcome_constraints\u001B[49m\u001B[38;5;241;43m=\u001B[39;49m\u001B[43marray_model_gen_args\u001B[49m\u001B[38;5;241;43m.\u001B[39;49m\u001B[43moutcome_constraints\u001B[49m\u001B[43m,\u001B[49m\n\u001B[1;32m    280\u001B[0m \u001B[43m    \u001B[49m\u001B[43mlinear_constraints\u001B[49m\u001B[38;5;241;43m=\u001B[39;49m\u001B[43marray_model_gen_args\u001B[49m\u001B[38;5;241;43m.\u001B[39;49m\u001B[43mlinear_constraints\u001B[49m\u001B[43m,\u001B[49m\n\u001B[1;32m    281\u001B[0m \u001B[43m    \u001B[49m\u001B[43mfixed_features\u001B[49m\u001B[38;5;241;43m=\u001B[39;49m\u001B[43marray_model_gen_args\u001B[49m\u001B[38;5;241;43m.\u001B[39;49m\u001B[43mfixed_features\u001B[49m\u001B[43m,\u001B[49m\n\u001B[1;32m    282\u001B[0m \u001B[43m    \u001B[49m\u001B[43mpending_observations\u001B[49m\u001B[38;5;241;43m=\u001B[39;49m\u001B[43marray_model_gen_args\u001B[49m\u001B[38;5;241;43m.\u001B[39;49m\u001B[43mpending_observations\u001B[49m\u001B[43m,\u001B[49m\n\u001B[1;32m    283\u001B[0m \u001B[43m    \u001B[49m\u001B[43mmodel_gen_options\u001B[49m\u001B[38;5;241;43m=\u001B[39;49m\u001B[43mmodel_gen_options\u001B[49m\u001B[43m,\u001B[49m\n\u001B[1;32m    284\u001B[0m \u001B[43m    \u001B[49m\u001B[43mrounding_func\u001B[49m\u001B[38;5;241;43m=\u001B[39;49m\u001B[43marray_model_gen_args\u001B[49m\u001B[38;5;241;43m.\u001B[39;49m\u001B[43mrounding_func\u001B[49m\u001B[43m,\u001B[49m\n\u001B[1;32m    285\u001B[0m \u001B[43m    \u001B[49m\u001B[43mtarget_fidelities\u001B[49m\u001B[38;5;241;43m=\u001B[39;49m\u001B[43msearch_space_digest\u001B[49m\u001B[38;5;241;43m.\u001B[39;49m\u001B[43mtarget_fidelities\u001B[49m\u001B[43m,\u001B[49m\n\u001B[1;32m    286\u001B[0m \u001B[43m    \u001B[49m\u001B[38;5;241;43m*\u001B[39;49m\u001B[38;5;241;43m*\u001B[39;49m\u001B[43marray_model_gen_args\u001B[49m\u001B[38;5;241;43m.\u001B[39;49m\u001B[43mextra_model_gen_kwargs\u001B[49m\u001B[43m,\u001B[49m\n\u001B[1;32m    287\u001B[0m \u001B[43m\u001B[49m\u001B[43m)\u001B[49m\n\u001B[1;32m    288\u001B[0m \u001B[38;5;66;03m# Transform array to observations\u001B[39;00m\n\u001B[1;32m    289\u001B[0m observation_features \u001B[38;5;241m=\u001B[39m parse_observation_features(\n\u001B[1;32m    290\u001B[0m     X\u001B[38;5;241m=\u001B[39mX, param_names\u001B[38;5;241m=\u001B[39m\u001B[38;5;28mself\u001B[39m\u001B[38;5;241m.\u001B[39mparameters, candidate_metadata\u001B[38;5;241m=\u001B[39mcandidate_metadata\n\u001B[1;32m    291\u001B[0m )\n",
      "File \u001B[0;32m~/opt/anaconda3/envs/matlab_compat/lib/python3.8/site-packages/ax/modelbridge/torch.py:277\u001B[0m, in \u001B[0;36mTorchModelBridge._model_gen\u001B[0;34m(self, n, bounds, objective_weights, outcome_constraints, linear_constraints, fixed_features, pending_observations, model_gen_options, rounding_func, target_fidelities, objective_thresholds, opt_config_metrics)\u001B[0m\n\u001B[1;32m    273\u001B[0m is_moo_problem \u001B[38;5;241m=\u001B[39m \u001B[38;5;28mself\u001B[39m\u001B[38;5;241m.\u001B[39mis_moo_problem \u001B[38;5;129;01mand\u001B[39;00m \u001B[38;5;28misinstance\u001B[39m(\n\u001B[1;32m    274\u001B[0m     \u001B[38;5;28mself\u001B[39m\u001B[38;5;241m.\u001B[39mmodel, (BoTorchModel, MultiObjectiveBotorchModel)\n\u001B[1;32m    275\u001B[0m )\n\u001B[1;32m    276\u001B[0m extra_kwargs \u001B[38;5;241m=\u001B[39m {\u001B[38;5;124m\"\u001B[39m\u001B[38;5;124mobjective_thresholds\u001B[39m\u001B[38;5;124m\"\u001B[39m: obj_t} \u001B[38;5;28;01mif\u001B[39;00m is_moo_problem \u001B[38;5;28;01melse\u001B[39;00m {}\n\u001B[0;32m--> 277\u001B[0m X, w, gen_metadata, candidate_metadata \u001B[38;5;241m=\u001B[39m \u001B[43mnot_none\u001B[49m\u001B[43m(\u001B[49m\u001B[38;5;28;43mself\u001B[39;49m\u001B[38;5;241;43m.\u001B[39;49m\u001B[43mmodel\u001B[49m\u001B[43m)\u001B[49m\u001B[38;5;241;43m.\u001B[39;49m\u001B[43mgen\u001B[49m\u001B[43m(\u001B[49m\n\u001B[1;32m    278\u001B[0m \u001B[43m    \u001B[49m\u001B[43mn\u001B[49m\u001B[38;5;241;43m=\u001B[39;49m\u001B[43mn\u001B[49m\u001B[43m,\u001B[49m\n\u001B[1;32m    279\u001B[0m \u001B[43m    \u001B[49m\u001B[43mbounds\u001B[49m\u001B[38;5;241;43m=\u001B[39;49m\u001B[43mbounds\u001B[49m\u001B[43m,\u001B[49m\n\u001B[1;32m    280\u001B[0m \u001B[43m    \u001B[49m\u001B[43mobjective_weights\u001B[49m\u001B[38;5;241;43m=\u001B[39;49m\u001B[43mobj_w\u001B[49m\u001B[43m,\u001B[49m\n\u001B[1;32m    281\u001B[0m \u001B[43m    \u001B[49m\u001B[43moutcome_constraints\u001B[49m\u001B[38;5;241;43m=\u001B[39;49m\u001B[43moc_c\u001B[49m\u001B[43m,\u001B[49m\n\u001B[1;32m    282\u001B[0m \u001B[43m    \u001B[49m\u001B[43mlinear_constraints\u001B[49m\u001B[38;5;241;43m=\u001B[39;49m\u001B[43ml_c\u001B[49m\u001B[43m,\u001B[49m\n\u001B[1;32m    283\u001B[0m \u001B[43m    \u001B[49m\u001B[43mfixed_features\u001B[49m\u001B[38;5;241;43m=\u001B[39;49m\u001B[43mfixed_features\u001B[49m\u001B[43m,\u001B[49m\n\u001B[1;32m    284\u001B[0m \u001B[43m    \u001B[49m\u001B[43mpending_observations\u001B[49m\u001B[38;5;241;43m=\u001B[39;49m\u001B[43mpend_obs\u001B[49m\u001B[43m,\u001B[49m\n\u001B[1;32m    285\u001B[0m \u001B[43m    \u001B[49m\u001B[43mmodel_gen_options\u001B[49m\u001B[38;5;241;43m=\u001B[39;49m\u001B[43maugmented_model_gen_options\u001B[49m\u001B[43m,\u001B[49m\n\u001B[1;32m    286\u001B[0m \u001B[43m    \u001B[49m\u001B[43mrounding_func\u001B[49m\u001B[38;5;241;43m=\u001B[39;49m\u001B[43mtensor_rounding_func\u001B[49m\u001B[43m,\u001B[49m\n\u001B[1;32m    287\u001B[0m \u001B[43m    \u001B[49m\u001B[43mtarget_fidelities\u001B[49m\u001B[38;5;241;43m=\u001B[39;49m\u001B[43mtarget_fidelities\u001B[49m\u001B[43m,\u001B[49m\n\u001B[1;32m    288\u001B[0m \u001B[43m    \u001B[49m\u001B[38;5;241;43m*\u001B[39;49m\u001B[38;5;241;43m*\u001B[39;49m\u001B[43mextra_kwargs\u001B[49m\n\u001B[1;32m    289\u001B[0m \u001B[43m\u001B[49m\u001B[43m)\u001B[49m\n\u001B[1;32m    291\u001B[0m \u001B[38;5;28;01mif\u001B[39;00m is_moo_problem:\n\u001B[1;32m    292\u001B[0m     \u001B[38;5;66;03m# If objective_thresholds are supplied by the user, then the transformed\u001B[39;00m\n\u001B[1;32m    293\u001B[0m     \u001B[38;5;66;03m# user-specified objective thresholds are in gen_metadata. Otherwise,\u001B[39;00m\n\u001B[1;32m    294\u001B[0m     \u001B[38;5;66;03m# inferred objective thresholds are in gen_metadata.\u001B[39;00m\n\u001B[1;32m    295\u001B[0m     opt_config_metrics \u001B[38;5;241m=\u001B[39m (\n\u001B[1;32m    296\u001B[0m         opt_config_metrics \u001B[38;5;129;01mor\u001B[39;00m not_none(\u001B[38;5;28mself\u001B[39m\u001B[38;5;241m.\u001B[39m_optimization_config)\u001B[38;5;241m.\u001B[39mmetrics\n\u001B[1;32m    297\u001B[0m     )\n",
      "File \u001B[0;32m~/opt/anaconda3/envs/matlab_compat/lib/python3.8/site-packages/ax/models/torch/botorch.py:393\u001B[0m, in \u001B[0;36mBotorchModel.gen\u001B[0;34m(self, n, bounds, objective_weights, outcome_constraints, linear_constraints, fixed_features, pending_observations, model_gen_options, rounding_func, target_fidelities)\u001B[0m\n\u001B[1;32m    390\u001B[0m     \u001B[38;5;28;01mreturn\u001B[39;00m candidates, expected_acquisition_value\n\u001B[1;32m    392\u001B[0m \u001B[38;5;28;01mtry\u001B[39;00m:\n\u001B[0;32m--> 393\u001B[0m     candidates, expected_acquisition_value \u001B[38;5;241m=\u001B[39m \u001B[43mmake_and_optimize_acqf\u001B[49m\u001B[43m(\u001B[49m\u001B[43m)\u001B[49m\n\u001B[1;32m    394\u001B[0m \u001B[38;5;28;01mexcept\u001B[39;00m UnsupportedError \u001B[38;5;28;01mas\u001B[39;00m e:\n\u001B[1;32m    395\u001B[0m     \u001B[38;5;28;01mif\u001B[39;00m \u001B[38;5;124m\"\u001B[39m\u001B[38;5;124mSobolQMCSampler only supports dimensions\u001B[39m\u001B[38;5;124m\"\u001B[39m \u001B[38;5;129;01min\u001B[39;00m \u001B[38;5;28mstr\u001B[39m(e):\n\u001B[1;32m    396\u001B[0m         \u001B[38;5;66;03m# dimension too large for Sobol, let's use IID\u001B[39;00m\n",
      "File \u001B[0;32m~/opt/anaconda3/envs/matlab_compat/lib/python3.8/site-packages/ax/models/torch/botorch.py:379\u001B[0m, in \u001B[0;36mBotorchModel.gen.<locals>.make_and_optimize_acqf\u001B[0;34m(override_qmc)\u001B[0m\n\u001B[1;32m    375\u001B[0m acquisition_function \u001B[38;5;241m=\u001B[39m checked_cast(\n\u001B[1;32m    376\u001B[0m     AcquisitionFunction, acquisition_function\n\u001B[1;32m    377\u001B[0m )\n\u001B[1;32m    378\u001B[0m \u001B[38;5;66;03m# pyre-ignore: [28]\u001B[39;00m\n\u001B[0;32m--> 379\u001B[0m candidates, expected_acquisition_value \u001B[38;5;241m=\u001B[39m \u001B[38;5;28;43mself\u001B[39;49m\u001B[38;5;241;43m.\u001B[39;49m\u001B[43macqf_optimizer\u001B[49m\u001B[43m(\u001B[49m\n\u001B[1;32m    380\u001B[0m \u001B[43m    \u001B[49m\u001B[43macq_function\u001B[49m\u001B[38;5;241;43m=\u001B[39;49m\u001B[43mchecked_cast\u001B[49m\u001B[43m(\u001B[49m\u001B[43mAcquisitionFunction\u001B[49m\u001B[43m,\u001B[49m\u001B[43m \u001B[49m\u001B[43macquisition_function\u001B[49m\u001B[43m)\u001B[49m\u001B[43m,\u001B[49m\n\u001B[1;32m    381\u001B[0m \u001B[43m    \u001B[49m\u001B[43mbounds\u001B[49m\u001B[38;5;241;43m=\u001B[39;49m\u001B[43mbounds_\u001B[49m\u001B[43m,\u001B[49m\n\u001B[1;32m    382\u001B[0m \u001B[43m    \u001B[49m\u001B[43mn\u001B[49m\u001B[38;5;241;43m=\u001B[39;49m\u001B[43mn\u001B[49m\u001B[43m,\u001B[49m\n\u001B[1;32m    383\u001B[0m \u001B[43m    \u001B[49m\u001B[43minequality_constraints\u001B[49m\u001B[38;5;241;43m=\u001B[39;49m\u001B[43m_to_inequality_constraints\u001B[49m\u001B[43m(\u001B[49m\n\u001B[1;32m    384\u001B[0m \u001B[43m        \u001B[49m\u001B[43mlinear_constraints\u001B[49m\u001B[38;5;241;43m=\u001B[39;49m\u001B[43mlinear_constraints\u001B[49m\n\u001B[1;32m    385\u001B[0m \u001B[43m    \u001B[49m\u001B[43m)\u001B[49m\u001B[43m,\u001B[49m\n\u001B[1;32m    386\u001B[0m \u001B[43m    \u001B[49m\u001B[43mfixed_features\u001B[49m\u001B[38;5;241;43m=\u001B[39;49m\u001B[43mfixed_features\u001B[49m\u001B[43m,\u001B[49m\n\u001B[1;32m    387\u001B[0m \u001B[43m    \u001B[49m\u001B[43mrounding_func\u001B[49m\u001B[38;5;241;43m=\u001B[39;49m\u001B[43mbotorch_rounding_func\u001B[49m\u001B[43m,\u001B[49m\n\u001B[1;32m    388\u001B[0m \u001B[43m    \u001B[49m\u001B[38;5;241;43m*\u001B[39;49m\u001B[38;5;241;43m*\u001B[39;49m\u001B[43moptimizer_options\u001B[49m\u001B[43m,\u001B[49m\n\u001B[1;32m    389\u001B[0m \u001B[43m\u001B[49m\u001B[43m)\u001B[49m\n\u001B[1;32m    390\u001B[0m \u001B[38;5;28;01mreturn\u001B[39;00m candidates, expected_acquisition_value\n",
      "File \u001B[0;32m~/opt/anaconda3/envs/matlab_compat/lib/python3.8/site-packages/ax/models/torch/botorch_defaults.py:346\u001B[0m, in \u001B[0;36mscipy_optimizer\u001B[0;34m(acq_function, bounds, n, inequality_constraints, equality_constraints, fixed_features, rounding_func, **kwargs)\u001B[0m\n\u001B[1;32m    344\u001B[0m \u001B[38;5;28;01melse\u001B[39;00m:\n\u001B[1;32m    345\u001B[0m     sequential \u001B[38;5;241m=\u001B[39m \u001B[38;5;28;01mTrue\u001B[39;00m\n\u001B[0;32m--> 346\u001B[0m X, expected_acquisition_value \u001B[38;5;241m=\u001B[39m \u001B[43moptimize_acqf\u001B[49m\u001B[43m(\u001B[49m\n\u001B[1;32m    347\u001B[0m \u001B[43m    \u001B[49m\u001B[43macq_function\u001B[49m\u001B[38;5;241;43m=\u001B[39;49m\u001B[43macq_function\u001B[49m\u001B[43m,\u001B[49m\n\u001B[1;32m    348\u001B[0m \u001B[43m    \u001B[49m\u001B[43mbounds\u001B[49m\u001B[38;5;241;43m=\u001B[39;49m\u001B[43mbounds\u001B[49m\u001B[43m,\u001B[49m\n\u001B[1;32m    349\u001B[0m \u001B[43m    \u001B[49m\u001B[43mq\u001B[49m\u001B[38;5;241;43m=\u001B[39;49m\u001B[43mn\u001B[49m\u001B[43m,\u001B[49m\n\u001B[1;32m    350\u001B[0m \u001B[43m    \u001B[49m\u001B[43mnum_restarts\u001B[49m\u001B[38;5;241;43m=\u001B[39;49m\u001B[43mnum_restarts\u001B[49m\u001B[43m,\u001B[49m\n\u001B[1;32m    351\u001B[0m \u001B[43m    \u001B[49m\u001B[43mraw_samples\u001B[49m\u001B[38;5;241;43m=\u001B[39;49m\u001B[43mraw_samples\u001B[49m\u001B[43m,\u001B[49m\n\u001B[1;32m    352\u001B[0m \u001B[43m    \u001B[49m\u001B[43moptions\u001B[49m\u001B[38;5;241;43m=\u001B[39;49m\u001B[43mkwargs\u001B[49m\u001B[43m,\u001B[49m\n\u001B[1;32m    353\u001B[0m \u001B[43m    \u001B[49m\u001B[43minequality_constraints\u001B[49m\u001B[38;5;241;43m=\u001B[39;49m\u001B[43minequality_constraints\u001B[49m\u001B[43m,\u001B[49m\n\u001B[1;32m    354\u001B[0m \u001B[43m    \u001B[49m\u001B[43mequality_constraints\u001B[49m\u001B[38;5;241;43m=\u001B[39;49m\u001B[43mequality_constraints\u001B[49m\u001B[43m,\u001B[49m\n\u001B[1;32m    355\u001B[0m \u001B[43m    \u001B[49m\u001B[43mfixed_features\u001B[49m\u001B[38;5;241;43m=\u001B[39;49m\u001B[43mfixed_features\u001B[49m\u001B[43m,\u001B[49m\n\u001B[1;32m    356\u001B[0m \u001B[43m    \u001B[49m\u001B[43msequential\u001B[49m\u001B[38;5;241;43m=\u001B[39;49m\u001B[43msequential\u001B[49m\u001B[43m,\u001B[49m\n\u001B[1;32m    357\u001B[0m \u001B[43m    \u001B[49m\u001B[43mpost_processing_func\u001B[49m\u001B[38;5;241;43m=\u001B[39;49m\u001B[43mrounding_func\u001B[49m\u001B[43m,\u001B[49m\n\u001B[1;32m    358\u001B[0m \u001B[43m\u001B[49m\u001B[43m)\u001B[49m\n\u001B[1;32m    359\u001B[0m \u001B[38;5;28;01mreturn\u001B[39;00m X, expected_acquisition_value\n",
      "File \u001B[0;32m~/opt/anaconda3/envs/matlab_compat/lib/python3.8/site-packages/botorch/optim/optimize.py:205\u001B[0m, in \u001B[0;36moptimize_acqf\u001B[0;34m(acq_function, bounds, q, num_restarts, raw_samples, options, inequality_constraints, equality_constraints, nonlinear_inequality_constraints, fixed_features, post_processing_func, batch_initial_conditions, return_best_only, sequential, **kwargs)\u001B[0m\n\u001B[1;32m    196\u001B[0m         \u001B[38;5;28;01mraise\u001B[39;00m \u001B[38;5;167;01mValueError\u001B[39;00m(\n\u001B[1;32m    197\u001B[0m             \u001B[38;5;124m\"\u001B[39m\u001B[38;5;124mMust specify `raw_samples` when `batch_initial_conditions` is `None`.\u001B[39m\u001B[38;5;124m\"\u001B[39m\n\u001B[1;32m    198\u001B[0m         )\n\u001B[1;32m    200\u001B[0m     ic_gen \u001B[38;5;241m=\u001B[39m (\n\u001B[1;32m    201\u001B[0m         gen_one_shot_kg_initial_conditions\n\u001B[1;32m    202\u001B[0m         \u001B[38;5;28;01mif\u001B[39;00m \u001B[38;5;28misinstance\u001B[39m(acq_function, qKnowledgeGradient)\n\u001B[1;32m    203\u001B[0m         \u001B[38;5;28;01melse\u001B[39;00m gen_batch_initial_conditions\n\u001B[1;32m    204\u001B[0m     )\n\u001B[0;32m--> 205\u001B[0m     batch_initial_conditions \u001B[38;5;241m=\u001B[39m \u001B[43mic_gen\u001B[49m\u001B[43m(\u001B[49m\n\u001B[1;32m    206\u001B[0m \u001B[43m        \u001B[49m\u001B[43macq_function\u001B[49m\u001B[38;5;241;43m=\u001B[39;49m\u001B[43macq_function\u001B[49m\u001B[43m,\u001B[49m\n\u001B[1;32m    207\u001B[0m \u001B[43m        \u001B[49m\u001B[43mbounds\u001B[49m\u001B[38;5;241;43m=\u001B[39;49m\u001B[43mbounds\u001B[49m\u001B[43m,\u001B[49m\n\u001B[1;32m    208\u001B[0m \u001B[43m        \u001B[49m\u001B[43mq\u001B[49m\u001B[38;5;241;43m=\u001B[39;49m\u001B[43mq\u001B[49m\u001B[43m,\u001B[49m\n\u001B[1;32m    209\u001B[0m \u001B[43m        \u001B[49m\u001B[43mnum_restarts\u001B[49m\u001B[38;5;241;43m=\u001B[39;49m\u001B[43mnum_restarts\u001B[49m\u001B[43m,\u001B[49m\n\u001B[1;32m    210\u001B[0m \u001B[43m        \u001B[49m\u001B[43mraw_samples\u001B[49m\u001B[38;5;241;43m=\u001B[39;49m\u001B[43mraw_samples\u001B[49m\u001B[43m,\u001B[49m\n\u001B[1;32m    211\u001B[0m \u001B[43m        \u001B[49m\u001B[43mfixed_features\u001B[49m\u001B[38;5;241;43m=\u001B[39;49m\u001B[43mfixed_features\u001B[49m\u001B[43m,\u001B[49m\n\u001B[1;32m    212\u001B[0m \u001B[43m        \u001B[49m\u001B[43moptions\u001B[49m\u001B[38;5;241;43m=\u001B[39;49m\u001B[43moptions\u001B[49m\u001B[43m,\u001B[49m\n\u001B[1;32m    213\u001B[0m \u001B[43m        \u001B[49m\u001B[43minequality_constraints\u001B[49m\u001B[38;5;241;43m=\u001B[39;49m\u001B[43minequality_constraints\u001B[49m\u001B[43m,\u001B[49m\n\u001B[1;32m    214\u001B[0m \u001B[43m        \u001B[49m\u001B[43mequality_constraints\u001B[49m\u001B[38;5;241;43m=\u001B[39;49m\u001B[43mequality_constraints\u001B[49m\u001B[43m,\u001B[49m\n\u001B[1;32m    215\u001B[0m \u001B[43m    \u001B[49m\u001B[43m)\u001B[49m\n\u001B[1;32m    217\u001B[0m batch_limit: \u001B[38;5;28mint\u001B[39m \u001B[38;5;241m=\u001B[39m options\u001B[38;5;241m.\u001B[39mget(\n\u001B[1;32m    218\u001B[0m     \u001B[38;5;124m\"\u001B[39m\u001B[38;5;124mbatch_limit\u001B[39m\u001B[38;5;124m\"\u001B[39m, num_restarts \u001B[38;5;28;01mif\u001B[39;00m \u001B[38;5;129;01mnot\u001B[39;00m nonlinear_inequality_constraints \u001B[38;5;28;01melse\u001B[39;00m \u001B[38;5;241m1\u001B[39m\n\u001B[1;32m    219\u001B[0m )\n\u001B[1;32m    220\u001B[0m batch_candidates_list: List[Tensor] \u001B[38;5;241m=\u001B[39m []\n",
      "File \u001B[0;32m~/opt/anaconda3/envs/matlab_compat/lib/python3.8/site-packages/botorch/optim/initializers.py:145\u001B[0m, in \u001B[0;36mgen_batch_initial_conditions\u001B[0;34m(acq_function, bounds, q, num_restarts, raw_samples, fixed_features, options, inequality_constraints, equality_constraints)\u001B[0m\n\u001B[1;32m    142\u001B[0m         X_rnd \u001B[38;5;241m=\u001B[39m bounds_cpu[\u001B[38;5;241m0\u001B[39m] \u001B[38;5;241m+\u001B[39m (bounds_cpu[\u001B[38;5;241m1\u001B[39m] \u001B[38;5;241m-\u001B[39m bounds_cpu[\u001B[38;5;241m0\u001B[39m]) \u001B[38;5;241m*\u001B[39m X_rnd_nlzd\n\u001B[1;32m    143\u001B[0m \u001B[38;5;28;01melse\u001B[39;00m:\n\u001B[1;32m    144\u001B[0m     X_rnd \u001B[38;5;241m=\u001B[39m (\n\u001B[0;32m--> 145\u001B[0m         \u001B[43mget_polytope_samples\u001B[49m\u001B[43m(\u001B[49m\n\u001B[1;32m    146\u001B[0m \u001B[43m            \u001B[49m\u001B[43mn\u001B[49m\u001B[38;5;241;43m=\u001B[39;49m\u001B[43mn\u001B[49m\u001B[43m \u001B[49m\u001B[38;5;241;43m*\u001B[39;49m\u001B[43m \u001B[49m\u001B[43mq\u001B[49m\u001B[43m,\u001B[49m\n\u001B[1;32m    147\u001B[0m \u001B[43m            \u001B[49m\u001B[43mbounds\u001B[49m\u001B[38;5;241;43m=\u001B[39;49m\u001B[43mbounds\u001B[49m\u001B[43m,\u001B[49m\n\u001B[1;32m    148\u001B[0m \u001B[43m            \u001B[49m\u001B[43minequality_constraints\u001B[49m\u001B[38;5;241;43m=\u001B[39;49m\u001B[43minequality_constraints\u001B[49m\u001B[43m,\u001B[49m\n\u001B[1;32m    149\u001B[0m \u001B[43m            \u001B[49m\u001B[43mequality_constraints\u001B[49m\u001B[38;5;241;43m=\u001B[39;49m\u001B[43mequality_constraints\u001B[49m\u001B[43m,\u001B[49m\n\u001B[1;32m    150\u001B[0m \u001B[43m            \u001B[49m\u001B[43mseed\u001B[49m\u001B[38;5;241;43m=\u001B[39;49m\u001B[43mseed\u001B[49m\u001B[43m,\u001B[49m\n\u001B[1;32m    151\u001B[0m \u001B[43m            \u001B[49m\u001B[43mn_burnin\u001B[49m\u001B[38;5;241;43m=\u001B[39;49m\u001B[43moptions\u001B[49m\u001B[38;5;241;43m.\u001B[39;49m\u001B[43mget\u001B[49m\u001B[43m(\u001B[49m\u001B[38;5;124;43m\"\u001B[39;49m\u001B[38;5;124;43mn_burnin\u001B[39;49m\u001B[38;5;124;43m\"\u001B[39;49m\u001B[43m,\u001B[49m\u001B[43m \u001B[49m\u001B[38;5;241;43m10000\u001B[39;49m\u001B[43m)\u001B[49m\u001B[43m,\u001B[49m\n\u001B[1;32m    152\u001B[0m \u001B[43m            \u001B[49m\u001B[43mthinning\u001B[49m\u001B[38;5;241;43m=\u001B[39;49m\u001B[43moptions\u001B[49m\u001B[38;5;241;43m.\u001B[39;49m\u001B[43mget\u001B[49m\u001B[43m(\u001B[49m\u001B[38;5;124;43m\"\u001B[39;49m\u001B[38;5;124;43mthinning\u001B[39;49m\u001B[38;5;124;43m\"\u001B[39;49m\u001B[43m,\u001B[49m\u001B[43m \u001B[49m\u001B[38;5;241;43m32\u001B[39;49m\u001B[43m)\u001B[49m\u001B[43m,\u001B[49m\n\u001B[1;32m    153\u001B[0m \u001B[43m        \u001B[49m\u001B[43m)\u001B[49m\n\u001B[1;32m    154\u001B[0m         \u001B[38;5;241m.\u001B[39mview(n, q, \u001B[38;5;241m-\u001B[39m\u001B[38;5;241m1\u001B[39m)\n\u001B[1;32m    155\u001B[0m         \u001B[38;5;241m.\u001B[39mcpu()\n\u001B[1;32m    156\u001B[0m     )\n\u001B[1;32m    157\u001B[0m \u001B[38;5;66;03m# sample points around best\u001B[39;00m\n\u001B[1;32m    158\u001B[0m \u001B[38;5;28;01mif\u001B[39;00m options\u001B[38;5;241m.\u001B[39mget(\u001B[38;5;124m\"\u001B[39m\u001B[38;5;124msample_around_best\u001B[39m\u001B[38;5;124m\"\u001B[39m, \u001B[38;5;28;01mFalse\u001B[39;00m):\n",
      "File \u001B[0;32m~/opt/anaconda3/envs/matlab_compat/lib/python3.8/site-packages/botorch/utils/sampling.py:876\u001B[0m, in \u001B[0;36mget_polytope_samples\u001B[0;34m(n, bounds, inequality_constraints, equality_constraints, seed, thinning, n_burnin)\u001B[0m\n\u001B[1;32m    869\u001B[0m     dense_equality_constraints \u001B[38;5;241m=\u001B[39m \u001B[38;5;28;01mNone\u001B[39;00m\n\u001B[1;32m    870\u001B[0m polytope_sampler \u001B[38;5;241m=\u001B[39m HitAndRunPolytopeSampler(\n\u001B[1;32m    871\u001B[0m     inequality_constraints\u001B[38;5;241m=\u001B[39mdense_inequality_constraints,\n\u001B[1;32m    872\u001B[0m     bounds\u001B[38;5;241m=\u001B[39mbounds,\n\u001B[1;32m    873\u001B[0m     equality_constraints\u001B[38;5;241m=\u001B[39mdense_equality_constraints,\n\u001B[1;32m    874\u001B[0m     n_burnin\u001B[38;5;241m=\u001B[39mn_burnin,\n\u001B[1;32m    875\u001B[0m )\n\u001B[0;32m--> 876\u001B[0m \u001B[38;5;28;01mreturn\u001B[39;00m \u001B[43mpolytope_sampler\u001B[49m\u001B[38;5;241;43m.\u001B[39;49m\u001B[43mdraw\u001B[49m\u001B[43m(\u001B[49m\u001B[43mn\u001B[49m\u001B[38;5;241;43m=\u001B[39;49m\u001B[43mn\u001B[49m\u001B[43m \u001B[49m\u001B[38;5;241;43m*\u001B[39;49m\u001B[43m \u001B[49m\u001B[43mthinning\u001B[49m\u001B[43m,\u001B[49m\u001B[43m \u001B[49m\u001B[43mseed\u001B[49m\u001B[38;5;241;43m=\u001B[39;49m\u001B[43mseed\u001B[49m\u001B[43m)\u001B[49m[::thinning]\n",
      "File \u001B[0;32m~/opt/anaconda3/envs/matlab_compat/lib/python3.8/site-packages/botorch/utils/sampling.py:678\u001B[0m, in \u001B[0;36mHitAndRunPolytopeSampler.draw\u001B[0;34m(self, n, seed)\u001B[0m\n\u001B[1;32m    668\u001B[0m \u001B[38;5;28;01mdef\u001B[39;00m \u001B[38;5;21mdraw\u001B[39m(\u001B[38;5;28mself\u001B[39m, n: \u001B[38;5;28mint\u001B[39m \u001B[38;5;241m=\u001B[39m \u001B[38;5;241m1\u001B[39m, seed: Optional[\u001B[38;5;28mint\u001B[39m] \u001B[38;5;241m=\u001B[39m \u001B[38;5;28;01mNone\u001B[39;00m) \u001B[38;5;241m-\u001B[39m\u001B[38;5;241m>\u001B[39m Tensor:\n\u001B[1;32m    669\u001B[0m     \u001B[38;5;124mr\u001B[39m\u001B[38;5;124;03m\"\"\"Draw samples from the polytope.\u001B[39;00m\n\u001B[1;32m    670\u001B[0m \n\u001B[1;32m    671\u001B[0m \u001B[38;5;124;03m    Args:\u001B[39;00m\n\u001B[0;32m   (...)\u001B[0m\n\u001B[1;32m    676\u001B[0m \u001B[38;5;124;03m        A `n x d` Tensor of samples from the polytope.\u001B[39;00m\n\u001B[1;32m    677\u001B[0m \u001B[38;5;124;03m    \"\"\"\u001B[39;00m\n\u001B[0;32m--> 678\u001B[0m     transformed_samples \u001B[38;5;241m=\u001B[39m \u001B[43msample_polytope\u001B[49m\u001B[43m(\u001B[49m\n\u001B[1;32m    679\u001B[0m \u001B[43m        \u001B[49m\u001B[38;5;66;43;03m# run this on the cpu\u001B[39;49;00m\n\u001B[1;32m    680\u001B[0m \u001B[43m        \u001B[49m\u001B[43mA\u001B[49m\u001B[38;5;241;43m=\u001B[39;49m\u001B[38;5;28;43mself\u001B[39;49m\u001B[38;5;241;43m.\u001B[39;49m\u001B[43mnew_A\u001B[49m\u001B[38;5;241;43m.\u001B[39;49m\u001B[43mcpu\u001B[49m\u001B[43m(\u001B[49m\u001B[43m)\u001B[49m\u001B[43m,\u001B[49m\n\u001B[1;32m    681\u001B[0m \u001B[43m        \u001B[49m\u001B[43mb\u001B[49m\u001B[38;5;241;43m=\u001B[39;49m\u001B[43m(\u001B[49m\u001B[38;5;28;43mself\u001B[39;49m\u001B[38;5;241;43m.\u001B[39;49m\u001B[43mb\u001B[49m\u001B[43m \u001B[49m\u001B[38;5;241;43m-\u001B[39;49m\u001B[43m \u001B[49m\u001B[38;5;28;43mself\u001B[39;49m\u001B[38;5;241;43m.\u001B[39;49m\u001B[43mA\u001B[49m\u001B[43m \u001B[49m\u001B[38;5;241;43m@\u001B[39;49m\u001B[43m \u001B[49m\u001B[38;5;28;43mself\u001B[39;49m\u001B[38;5;241;43m.\u001B[39;49m\u001B[43mx0\u001B[49m\u001B[43m)\u001B[49m\u001B[38;5;241;43m.\u001B[39;49m\u001B[43mcpu\u001B[49m\u001B[43m(\u001B[49m\u001B[43m)\u001B[49m\u001B[43m,\u001B[49m\n\u001B[1;32m    682\u001B[0m \u001B[43m        \u001B[49m\u001B[43mx0\u001B[49m\u001B[38;5;241;43m=\u001B[39;49m\u001B[43mtorch\u001B[49m\u001B[38;5;241;43m.\u001B[39;49m\u001B[43mzeros\u001B[49m\u001B[43m(\u001B[49m\u001B[43m(\u001B[49m\u001B[38;5;28;43mself\u001B[39;49m\u001B[38;5;241;43m.\u001B[39;49m\u001B[43mnullC\u001B[49m\u001B[38;5;241;43m.\u001B[39;49m\u001B[43msize\u001B[49m\u001B[43m(\u001B[49m\u001B[38;5;241;43m1\u001B[39;49m\u001B[43m)\u001B[49m\u001B[43m,\u001B[49m\u001B[43m \u001B[49m\u001B[38;5;241;43m1\u001B[39;49m\u001B[43m)\u001B[49m\u001B[43m,\u001B[49m\u001B[43m \u001B[49m\u001B[43mdtype\u001B[49m\u001B[38;5;241;43m=\u001B[39;49m\u001B[38;5;28;43mself\u001B[39;49m\u001B[38;5;241;43m.\u001B[39;49m\u001B[43mA\u001B[49m\u001B[38;5;241;43m.\u001B[39;49m\u001B[43mdtype\u001B[49m\u001B[43m)\u001B[49m\u001B[43m,\u001B[49m\n\u001B[1;32m    683\u001B[0m \u001B[43m        \u001B[49m\u001B[43mn\u001B[49m\u001B[38;5;241;43m=\u001B[39;49m\u001B[43mn\u001B[49m\u001B[43m,\u001B[49m\n\u001B[1;32m    684\u001B[0m \u001B[43m        \u001B[49m\u001B[43mn0\u001B[49m\u001B[38;5;241;43m=\u001B[39;49m\u001B[38;5;28;43mself\u001B[39;49m\u001B[38;5;241;43m.\u001B[39;49m\u001B[43mn_burnin\u001B[49m\u001B[43m,\u001B[49m\n\u001B[1;32m    685\u001B[0m \u001B[43m        \u001B[49m\u001B[43mseed\u001B[49m\u001B[38;5;241;43m=\u001B[39;49m\u001B[43mseed\u001B[49m\u001B[43m,\u001B[49m\n\u001B[1;32m    686\u001B[0m \u001B[43m    \u001B[49m\u001B[43m)\u001B[49m\u001B[38;5;241m.\u001B[39mto(\u001B[38;5;28mself\u001B[39m\u001B[38;5;241m.\u001B[39mb)\n\u001B[1;32m    687\u001B[0m     init_shift \u001B[38;5;241m=\u001B[39m \u001B[38;5;28mself\u001B[39m\u001B[38;5;241m.\u001B[39mx0\u001B[38;5;241m.\u001B[39mtranspose(\u001B[38;5;241m-\u001B[39m\u001B[38;5;241m1\u001B[39m, \u001B[38;5;241m-\u001B[39m\u001B[38;5;241m2\u001B[39m)\n\u001B[1;32m    688\u001B[0m     samples \u001B[38;5;241m=\u001B[39m init_shift \u001B[38;5;241m+\u001B[39m transformed_samples \u001B[38;5;241m@\u001B[39m \u001B[38;5;28mself\u001B[39m\u001B[38;5;241m.\u001B[39mnullC\u001B[38;5;241m.\u001B[39mtranspose(\u001B[38;5;241m-\u001B[39m\u001B[38;5;241m1\u001B[39m, \u001B[38;5;241m-\u001B[39m\u001B[38;5;241m2\u001B[39m)\n",
      "File \u001B[0;32m~/opt/anaconda3/envs/matlab_compat/lib/python3.8/site-packages/botorch/utils/sampling.py:353\u001B[0m, in \u001B[0;36msample_polytope\u001B[0;34m(A, b, x0, n, n0, seed)\u001B[0m\n\u001B[1;32m    351\u001B[0m out \u001B[38;5;241m=\u001B[39m torch\u001B[38;5;241m.\u001B[39mempty(n, A\u001B[38;5;241m.\u001B[39msize(\u001B[38;5;241m-\u001B[39m\u001B[38;5;241m1\u001B[39m), dtype\u001B[38;5;241m=\u001B[39mA\u001B[38;5;241m.\u001B[39mdtype, device\u001B[38;5;241m=\u001B[39mA\u001B[38;5;241m.\u001B[39mdevice)\n\u001B[1;32m    352\u001B[0m x \u001B[38;5;241m=\u001B[39m x0\u001B[38;5;241m.\u001B[39mclone()\n\u001B[0;32m--> 353\u001B[0m \u001B[38;5;28;01mfor\u001B[39;00m i, (ar, r, rnd) \u001B[38;5;129;01min\u001B[39;00m \u001B[38;5;28menumerate\u001B[39m(\u001B[38;5;28;43mzip\u001B[39;49m\u001B[43m(\u001B[49m\u001B[43mARs\u001B[49m\u001B[43m,\u001B[49m\u001B[43m \u001B[49m\u001B[43mRs\u001B[49m\u001B[43m,\u001B[49m\u001B[43m \u001B[49m\u001B[43mrands\u001B[49m\u001B[43m)\u001B[49m):\n\u001B[1;32m    354\u001B[0m     \u001B[38;5;66;03m# given x, the next point in the chain is x+alpha*r\u001B[39;00m\n\u001B[1;32m    355\u001B[0m     \u001B[38;5;66;03m# it also satisfies A(x+alpha*r)<=b which implies A*alpha*r<=b-Ax\u001B[39;00m\n\u001B[1;32m    356\u001B[0m     \u001B[38;5;66;03m# so alpha<=(b-Ax)/ar for ar>0, and alpha>=(b-Ax)/ar for ar<0.\u001B[39;00m\n\u001B[1;32m    357\u001B[0m     \u001B[38;5;66;03m# b - A @ x is always >= 0, clamping for numerical tolerances\u001B[39;00m\n\u001B[1;32m    358\u001B[0m     w \u001B[38;5;241m=\u001B[39m (b \u001B[38;5;241m-\u001B[39m A \u001B[38;5;241m@\u001B[39m x)\u001B[38;5;241m.\u001B[39msqueeze()\u001B[38;5;241m.\u001B[39mclamp(\u001B[38;5;28mmin\u001B[39m\u001B[38;5;241m=\u001B[39m\u001B[38;5;241m0.0\u001B[39m) \u001B[38;5;241m/\u001B[39m ar\n\u001B[1;32m    359\u001B[0m     pos \u001B[38;5;241m=\u001B[39m w \u001B[38;5;241m>\u001B[39m\u001B[38;5;241m=\u001B[39m \u001B[38;5;241m0\u001B[39m\n",
      "File \u001B[0;32m~/opt/anaconda3/envs/matlab_compat/lib/python3.8/site-packages/torch/_tensor.py:704\u001B[0m, in \u001B[0;36mTensor.__iter__\u001B[0;34m(self)\u001B[0m\n\u001B[1;32m    699\u001B[0m \u001B[38;5;28;01mif\u001B[39;00m torch\u001B[38;5;241m.\u001B[39m_C\u001B[38;5;241m.\u001B[39m_get_tracing_state():\n\u001B[1;32m    700\u001B[0m     warnings\u001B[38;5;241m.\u001B[39mwarn(\u001B[38;5;124m'\u001B[39m\u001B[38;5;124mIterating over a tensor might cause the trace to be incorrect. \u001B[39m\u001B[38;5;124m'\u001B[39m\n\u001B[1;32m    701\u001B[0m                   \u001B[38;5;124m'\u001B[39m\u001B[38;5;124mPassing a tensor of different shape won\u001B[39m\u001B[38;5;130;01m\\'\u001B[39;00m\u001B[38;5;124mt change the number of \u001B[39m\u001B[38;5;124m'\u001B[39m\n\u001B[1;32m    702\u001B[0m                   \u001B[38;5;124m'\u001B[39m\u001B[38;5;124miterations executed (and might lead to errors or silently give \u001B[39m\u001B[38;5;124m'\u001B[39m\n\u001B[1;32m    703\u001B[0m                   \u001B[38;5;124m'\u001B[39m\u001B[38;5;124mincorrect results).\u001B[39m\u001B[38;5;124m'\u001B[39m, category\u001B[38;5;241m=\u001B[39mtorch\u001B[38;5;241m.\u001B[39mjit\u001B[38;5;241m.\u001B[39mTracerWarning, stacklevel\u001B[38;5;241m=\u001B[39m\u001B[38;5;241m2\u001B[39m)\n\u001B[0;32m--> 704\u001B[0m \u001B[38;5;28;01mreturn\u001B[39;00m \u001B[38;5;28miter\u001B[39m(\u001B[38;5;28;43mself\u001B[39;49m\u001B[38;5;241;43m.\u001B[39;49m\u001B[43munbind\u001B[49m\u001B[43m(\u001B[49m\u001B[38;5;241;43m0\u001B[39;49m\u001B[43m)\u001B[49m)\n",
      "\u001B[0;31mKeyboardInterrupt\u001B[0m: "
     ]
    }
   ],
   "source": [
    "runners = {\n",
    "    'GP, online only': run_online_only_bo,\n",
    "    'MTGP': run_mtbo,\n",
    "}\n",
    "\n",
    "for rep in range(n_reps):\n",
    "    print('Running rep', rep)\n",
    "    for k, r in runners.items():\n",
    "        print('Running', k)\n",
    "        exp = r(rep)\n",
    "        df = exp.fetch_data().df\n",
    "        # add a rep column\n",
    "        df['rep'] = rep\n",
    "        # add a runner column\n",
    "        df['runner'] = k\n",
    "        # depending on the runner add to a dataframe check if first rep and what runner\n",
    "        if rep == 0 and k == 'GP, online only':\n",
    "            res = df\n",
    "        elif rep == 0 and k == 'MTGP':\n",
    "            res_mtbo = df\n",
    "        elif rep > 0 and k == 'GP, online only':\n",
    "            res = pd.concat([res, df])\n",
    "        elif rep > 0 and k == 'MTGP':\n",
    "            res_mtbo = pd.concat([res_mtbo, df])\n",
    "        else:\n",
    "            raise ValueError('Something went wrong')\n"
   ],
   "metadata": {
    "collapsed": false,
    "ExecuteTime": {
     "end_time": "2023-10-17T11:05:50.441449Z",
     "start_time": "2023-10-17T09:37:04.050929Z"
    }
   }
  },
  {
   "cell_type": "code",
   "execution_count": 42,
   "outputs": [],
   "source": [
    "# write to csv\n",
    "# res.to_csv('data/res_online_correct.csv')\n",
    "# res_mtbo.to_csv('data/res_mtbo_correct.csv')"
   ],
   "metadata": {
    "collapsed": false,
    "ExecuteTime": {
     "end_time": "2023-10-16T09:29:32.607174Z",
     "start_time": "2023-10-16T09:29:32.489699Z"
    }
   }
  },
  {
   "cell_type": "code",
   "execution_count": 25,
   "outputs": [],
   "source": [
    "# read from csv\n",
    "res = pd.read_csv('data/res.csv')\n",
    "res_mtbo = pd.read_csv('data/res_mtbo.csv')"
   ],
   "metadata": {
    "collapsed": false,
    "ExecuteTime": {
     "end_time": "2023-10-17T11:06:51.753303Z",
     "start_time": "2023-10-17T11:06:51.731764Z"
    }
   }
  },
  {
   "cell_type": "code",
   "execution_count": 26,
   "outputs": [
    {
     "data": {
      "text/plain": "     Unnamed: 0 arm_name metric_name        mean  sem  trial_index      n  \\\n0             0      0_0   objective   49.062127  1.0            0   2000   \n1             1      0_1   objective   58.102973  1.0            0   2000   \n2             2      0_2   objective   33.790839  1.0            0   2000   \n3             3      0_3   objective   36.462959  1.0            0   2000   \n4             4      0_4   objective   43.157140  1.0            0   2000   \n..          ...      ...         ...         ...  ...          ...    ...   \n245          20     16_0   objective  112.832866  1.0           16  10000   \n246          21     17_0   objective  110.479418  1.0           17  10000   \n247          22     18_0   objective  109.430078  1.0           18  10000   \n248          23     19_0   objective  110.679795  1.0           19  10000   \n249          24     20_0   objective  110.084996  1.0           20  10000   \n\n     frac_nonnull  rep           runner  \n0       49.062127    0  GP, online only  \n1       58.102973    0  GP, online only  \n2       33.790839    0  GP, online only  \n3       36.462959    0  GP, online only  \n4       43.157140    0  GP, online only  \n..            ...  ...              ...  \n245    112.832866    9  GP, online only  \n246    110.479418    9  GP, online only  \n247    109.430078    9  GP, online only  \n248    110.679795    9  GP, online only  \n249    110.084996    9  GP, online only  \n\n[250 rows x 10 columns]",
      "text/html": "<div>\n<style scoped>\n    .dataframe tbody tr th:only-of-type {\n        vertical-align: middle;\n    }\n\n    .dataframe tbody tr th {\n        vertical-align: top;\n    }\n\n    .dataframe thead th {\n        text-align: right;\n    }\n</style>\n<table border=\"1\" class=\"dataframe\">\n  <thead>\n    <tr style=\"text-align: right;\">\n      <th></th>\n      <th>Unnamed: 0</th>\n      <th>arm_name</th>\n      <th>metric_name</th>\n      <th>mean</th>\n      <th>sem</th>\n      <th>trial_index</th>\n      <th>n</th>\n      <th>frac_nonnull</th>\n      <th>rep</th>\n      <th>runner</th>\n    </tr>\n  </thead>\n  <tbody>\n    <tr>\n      <th>0</th>\n      <td>0</td>\n      <td>0_0</td>\n      <td>objective</td>\n      <td>49.062127</td>\n      <td>1.0</td>\n      <td>0</td>\n      <td>2000</td>\n      <td>49.062127</td>\n      <td>0</td>\n      <td>GP, online only</td>\n    </tr>\n    <tr>\n      <th>1</th>\n      <td>1</td>\n      <td>0_1</td>\n      <td>objective</td>\n      <td>58.102973</td>\n      <td>1.0</td>\n      <td>0</td>\n      <td>2000</td>\n      <td>58.102973</td>\n      <td>0</td>\n      <td>GP, online only</td>\n    </tr>\n    <tr>\n      <th>2</th>\n      <td>2</td>\n      <td>0_2</td>\n      <td>objective</td>\n      <td>33.790839</td>\n      <td>1.0</td>\n      <td>0</td>\n      <td>2000</td>\n      <td>33.790839</td>\n      <td>0</td>\n      <td>GP, online only</td>\n    </tr>\n    <tr>\n      <th>3</th>\n      <td>3</td>\n      <td>0_3</td>\n      <td>objective</td>\n      <td>36.462959</td>\n      <td>1.0</td>\n      <td>0</td>\n      <td>2000</td>\n      <td>36.462959</td>\n      <td>0</td>\n      <td>GP, online only</td>\n    </tr>\n    <tr>\n      <th>4</th>\n      <td>4</td>\n      <td>0_4</td>\n      <td>objective</td>\n      <td>43.157140</td>\n      <td>1.0</td>\n      <td>0</td>\n      <td>2000</td>\n      <td>43.157140</td>\n      <td>0</td>\n      <td>GP, online only</td>\n    </tr>\n    <tr>\n      <th>...</th>\n      <td>...</td>\n      <td>...</td>\n      <td>...</td>\n      <td>...</td>\n      <td>...</td>\n      <td>...</td>\n      <td>...</td>\n      <td>...</td>\n      <td>...</td>\n      <td>...</td>\n    </tr>\n    <tr>\n      <th>245</th>\n      <td>20</td>\n      <td>16_0</td>\n      <td>objective</td>\n      <td>112.832866</td>\n      <td>1.0</td>\n      <td>16</td>\n      <td>10000</td>\n      <td>112.832866</td>\n      <td>9</td>\n      <td>GP, online only</td>\n    </tr>\n    <tr>\n      <th>246</th>\n      <td>21</td>\n      <td>17_0</td>\n      <td>objective</td>\n      <td>110.479418</td>\n      <td>1.0</td>\n      <td>17</td>\n      <td>10000</td>\n      <td>110.479418</td>\n      <td>9</td>\n      <td>GP, online only</td>\n    </tr>\n    <tr>\n      <th>247</th>\n      <td>22</td>\n      <td>18_0</td>\n      <td>objective</td>\n      <td>109.430078</td>\n      <td>1.0</td>\n      <td>18</td>\n      <td>10000</td>\n      <td>109.430078</td>\n      <td>9</td>\n      <td>GP, online only</td>\n    </tr>\n    <tr>\n      <th>248</th>\n      <td>23</td>\n      <td>19_0</td>\n      <td>objective</td>\n      <td>110.679795</td>\n      <td>1.0</td>\n      <td>19</td>\n      <td>10000</td>\n      <td>110.679795</td>\n      <td>9</td>\n      <td>GP, online only</td>\n    </tr>\n    <tr>\n      <th>249</th>\n      <td>24</td>\n      <td>20_0</td>\n      <td>objective</td>\n      <td>110.084996</td>\n      <td>1.0</td>\n      <td>20</td>\n      <td>10000</td>\n      <td>110.084996</td>\n      <td>9</td>\n      <td>GP, online only</td>\n    </tr>\n  </tbody>\n</table>\n<p>250 rows × 10 columns</p>\n</div>"
     },
     "execution_count": 26,
     "metadata": {},
     "output_type": "execute_result"
    }
   ],
   "source": [
    "res"
   ],
   "metadata": {
    "collapsed": false,
    "ExecuteTime": {
     "end_time": "2023-10-17T11:06:54.582463Z",
     "start_time": "2023-10-17T11:06:54.570446Z"
    }
   }
  },
  {
   "cell_type": "code",
   "execution_count": 28,
   "outputs": [
    {
     "name": "stdout",
     "output_type": "stream",
     "text": [
      "0\n",
      "1\n",
      "2\n",
      "3\n",
      "4\n",
      "5\n",
      "6\n",
      "7\n"
     ]
    },
    {
     "data": {
      "text/plain": "<matplotlib.legend.Legend at 0x7fe080d7a610>"
     },
     "execution_count": 28,
     "metadata": {},
     "output_type": "execute_result"
    },
    {
     "data": {
      "text/plain": "<Figure size 576x432 with 1 Axes>",
      "image/png": "[encoded data removed]"
     },
     "metadata": {},
     "output_type": "display_data"
    }
   ],
   "source": [
    "means = []\n",
    "means_mtgp = []\n",
    "n_reps = 8\n",
    "n_reps = np.arange(8)\n",
    "\n",
    "for i in n_reps:\n",
    "    print(i)\n",
    "    means.append(res[(res['metric_name'] == 'objective') & (res['rep'] == i)]['mean'].values)\n",
    "    means_mtgp.append(res_mtbo[(res_mtbo['metric_name'] == 'objective') & (res_mtbo['rep'] == i)]['mean'].values)\n",
    "\n",
    "means = np.array(means)\n",
    "means_mtgp = np.array(means_mtgp)\n",
    "\n",
    "def get_best_so_far(means):\n",
    "    for i in range(len(n_reps)):\n",
    "        for j in range(len(means[i])):\n",
    "            if j == 0:\n",
    "                continue\n",
    "            else:\n",
    "                means[i][j] = max(means[i][j], means[i][j-1])\n",
    "    return means\n",
    "\n",
    "means = get_best_so_far(means)\n",
    "means_mtgp = get_best_so_far(means_mtgp)\n",
    "\n",
    "# now take the mean over axis 0\n",
    "means_mean = np.mean(means, axis=0)\n",
    "means_mtgp_mean = np.mean(means_mtgp, axis=0)\n",
    "\n",
    "# take std over axis 0\n",
    "stds = np.std(means, axis=0) / np.sqrt(len(n_reps))\n",
    "stds_mtgp = np.std(means_mtgp, axis=0) / np.sqrt(len(n_reps))\n",
    "\n",
    "# now plot the means and stds using matplotlib and fill_between\n",
    "import seaborn as sns\n",
    "sns.set(font_scale=1.5)\n",
    "sns.set_style('white')\n",
    "# now plot the means and stds using matplotlib and fill_between\n",
    "import matplotlib.pyplot as plt\n",
    "fig, ax = plt.subplots(1, 1, figsize=(8, 6))\n",
    "plt.tight_layout()\n",
    "ax.plot(np.arange(len(means_mean)), means_mean, label='Single-task GP')\n",
    "ax.plot(np.arange(len(means_mtgp_mean)), means_mtgp_mean, label='Multi-task GP')\n",
    "ax.fill_between(np.arange(len(means_mean)), means_mean - stds, means_mean + stds, alpha=0.2)\n",
    "ax.fill_between(np.arange(len(means_mtgp_mean)), means_mtgp_mean - stds_mtgp, means_mtgp_mean + stds_mtgp, alpha=0.2)\n",
    "ax.set_xlabel('Iteration')\n",
    "ax.set_ylabel('Best-feasible CRF value')\n",
    "#ax.set_ylim(100, 130)\n",
    "ax.legend()\n",
    "\n",
    "# save figure\n",
    "# plt.savefig('figures/bo_vs_mtbo_realsample.png', dpi=500, bbox_inches='tight')\n",
    "# plt.savefig('figures/bo_vs_mtbo_realsample.pdf', dpi=500, bbox_inches='tight')\n",
    "\n"
   ],
   "metadata": {
    "collapsed": false,
    "ExecuteTime": {
     "end_time": "2023-10-17T11:09:05.615115Z",
     "start_time": "2023-10-17T11:09:05.139561Z"
    }
   }
  }
 ],
 "metadata": {
  "kernelspec": {
   "name": "matlab_compat",
   "language": "python",
   "display_name": "matlab_compat"
  },
  "language_info": {
   "codemirror_mode": {
    "name": "ipython",
    "version": 2
   },
   "file_extension": ".py",
   "mimetype": "text/x-python",
   "name": "python",
   "nbconvert_exporter": "python",
   "pygments_lexer": "ipython2",
   "version": "2.7.6"
  }
 },
 "nbformat": 4,
 "nbformat_minor": 0
}
